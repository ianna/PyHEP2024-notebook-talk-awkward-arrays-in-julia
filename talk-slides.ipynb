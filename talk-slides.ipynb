{
 "cells": [
  {
   "cell_type": "markdown",
   "id": "2f66ffb2-c48a-4f48-b3d1-a26133bde02b",
   "metadata": {},
   "source": [
    "# AwkwardArrays in Julia for High-Energy Physics Data Analysis"
   ]
  },
  {
   "cell_type": "code",
   "execution_count": null,
   "id": "560097aa-37e4-4eed-a860-1505dc56008b",
   "metadata": {},
   "outputs": [],
   "source": []
  },
  {
   "cell_type": "markdown",
   "id": "82536633-6583-408f-91a7-cab97ce1d02d",
   "metadata": {},
   "source": [
    "AwkwardArrays are designed to handle irregular, nested data structures with Python being the primary language\n",
    "\n",
    " * [Reading RNTuple data with Uproot](https://ariostas-talks.github.io/2024-07-02-pyhep-uproot-rntuple/lab/index.html) by Andres Rios-Tascon\n",
    " * [Distributed Columnar HEP analysis using coffea + dask](https://github.com/ikrommyd/pyhep2024-coffea-dask) by Iason Krommydas\n",
    " * Easy Columnar File Conversion with ‘hepconvert' by Zoë Bilodeau\n",
    " * A new SymPy backend for vector: uniting experimental and theoretical physicists by Saransh Chopra\n",
    "\n",
    "Recent integration into Julia offers new possibilities"
   ]
  },
  {
   "cell_type": "markdown",
   "id": "7bce9445-3dc0-48c1-90c6-02627c1ea9c5",
   "metadata": {},
   "source": [
    "## Why Julia?"
   ]
  },
  {
   "cell_type": "markdown",
   "id": "7e054267-77f2-4ae6-b6f3-db884d2f18c1",
   "metadata": {},
   "source": [
    "Sharing Awkward Array data structures between Python and Julia to encourage the Python users to run their analysis both in an eco-system of their choice and in Julia\n",
    "\n",
    "Physicists are using Awkward Array in Python and data format conversion is the hardest part of language boundary-hopping"
   ]
  },
  {
   "cell_type": "markdown",
   "id": "dcaf2258",
   "metadata": {},
   "source": [
    "## Installation and Setup"
   ]
  },
  {
   "cell_type": "markdown",
   "id": "aacf2b69",
   "metadata": {},
   "source": [
    "[PythonCall and Julia Call](https://juliapy.github.io/PythonCall.jl/stable/) allow to call Python code from Julia and Julia code from Python via a symmetric interface."
   ]
  },
  {
   "cell_type": "code",
   "execution_count": null,
   "id": "df348d1a",
   "metadata": {
    "scrolled": true
   },
   "outputs": [],
   "source": [
    "pip install juliacall"
   ]
  },
  {
   "cell_type": "code",
   "execution_count": null,
   "id": "7eb8233c",
   "metadata": {},
   "outputs": [],
   "source": [
    "from juliacall import Main as jl"
   ]
  },
  {
   "cell_type": "markdown",
   "id": "a5f39429-fdeb-4000-b07d-71dde1a97814",
   "metadata": {},
   "source": [
    "## Install UnROOT"
   ]
  },
  {
   "cell_type": "code",
   "execution_count": null,
   "id": "66548385-647b-4411-8d87-8b3f4a00aacb",
   "metadata": {},
   "outputs": [],
   "source": [
    "jl.seval(\"using Pkg\")\n",
    "jl.seval(\"Pkg.add(\\\"UnROOT\\\")\")"
   ]
  },
  {
   "cell_type": "markdown",
   "id": "16db7e7e-5dcb-40cc-9097-0bf6fdd44cd2",
   "metadata": {},
   "source": [
    "## Reading data"
   ]
  },
  {
   "cell_type": "code",
   "execution_count": null,
   "id": "8a699c32-7244-4a6d-bc33-415333c8656a",
   "metadata": {},
   "outputs": [],
   "source": [
    "jl.seval(\"using UnROOT\")"
   ]
  },
  {
   "cell_type": "code",
   "execution_count": null,
   "id": "995b4902-1e9e-42f4-9537-edab94e1735d",
   "metadata": {},
   "outputs": [],
   "source": [
    "file = jl.Main.ROOTFile(\"data/SMHiggsToZZTo4L.root\")"
   ]
  },
  {
   "cell_type": "code",
   "execution_count": null,
   "id": "289ef60f-b690-41f2-8ebb-6d33cc9c05a8",
   "metadata": {},
   "outputs": [],
   "source": [
    "file"
   ]
  },
  {
   "cell_type": "code",
   "execution_count": null,
   "id": "9bb0f27d-e8cd-41ac-a367-8c1c8b552db3",
   "metadata": {},
   "outputs": [],
   "source": [
    "events = jl.Main.LazyTree(file, \"Events\")"
   ]
  },
  {
   "cell_type": "code",
   "execution_count": null,
   "id": "e577eecd-a686-4067-8db6-7737c349dc36",
   "metadata": {},
   "outputs": [],
   "source": [
    "events"
   ]
  },
  {
   "cell_type": "code",
   "execution_count": null,
   "id": "fb884eca-7df3-446d-99e8-78845173209a",
   "metadata": {},
   "outputs": [],
   "source": [
    "events.Muon_pt"
   ]
  },
  {
   "cell_type": "code",
   "execution_count": null,
   "id": "c536679c-91f8-4837-8ea0-94171a4a23e0",
   "metadata": {},
   "outputs": [],
   "source": [
    "type(events)"
   ]
  },
  {
   "cell_type": "code",
   "execution_count": null,
   "id": "77648128-3a68-4af5-b28e-908e69672858",
   "metadata": {},
   "outputs": [],
   "source": [
    "muons_pt = events.Muon_pt\n",
    "muons_eta = events.Muon_eta\n",
    "muon_phi = events.Muon_phi\n",
    "muons_mass = events.Muon_mass\n",
    "muons_charge = events.Muon_charge\n",
    "muons_isolation = events.Muon_pfRelIso03_all"
   ]
  },
  {
   "cell_type": "code",
   "execution_count": null,
   "id": "7ec05635-280d-4bf9-8c94-8dea009194b9",
   "metadata": {},
   "outputs": [],
   "source": [
    "type(muons_pt)"
   ]
  },
  {
   "cell_type": "markdown",
   "id": "055398cb-1782-4829-bded-5fafc7b3d25e",
   "metadata": {},
   "source": [
    "## Using Julia Functions"
   ]
  },
  {
   "cell_type": "code",
   "execution_count": null,
   "id": "1937d41b-f819-495c-b2d7-01bd41e42771",
   "metadata": {},
   "outputs": [],
   "source": [
    "jl.seval(\"\"\"\n",
    "function my_fun(x,y)\n",
    "    return 2x.+y\n",
    "end\n",
    "\"\"\")"
   ]
  },
  {
   "cell_type": "code",
   "execution_count": null,
   "id": "7db7e642-a8d7-406e-b79b-24dc479fd60a",
   "metadata": {},
   "outputs": [],
   "source": [
    "jl.my_fun(2,3)"
   ]
  },
  {
   "cell_type": "markdown",
   "id": "1251961b-5e46-4bba-9678-44fcbe87ce52",
   "metadata": {},
   "source": [
    "## Introducing AwkwardArrays"
   ]
  },
  {
   "cell_type": "code",
   "execution_count": null,
   "id": "b4c2b287-04f2-454f-bfff-4652888c06be",
   "metadata": {},
   "outputs": [],
   "source": [
    "import awkward as ak"
   ]
  },
  {
   "cell_type": "code",
   "execution_count": null,
   "id": "0171d68d-e09a-4ea3-b715-f2036d72053f",
   "metadata": {},
   "outputs": [],
   "source": [
    "jl.seval(\"using AwkwardArray\")"
   ]
  },
  {
   "cell_type": "markdown",
   "id": "85363eea-3c76-41c5-b5b0-b876b406520b",
   "metadata": {},
   "source": [
    "Let's write a function to convert the UnROOT's LazyBranches into an AwkwardArray in Julia and return the AwkwardArray to Python.\n",
    "\n",
    "*Note:* Jerry Ling is planning to provide this feature in UnROOT."
   ]
  },
  {
   "cell_type": "code",
   "execution_count": null,
   "id": "9f7d0cd9-c0dc-47a8-8c6f-79ff9ff07fb4",
   "metadata": {},
   "outputs": [],
   "source": [
    "jl.seval(\"\"\"\n",
    "using AwkwardArray\n",
    "\n",
    "function make_record_array(events)\n",
    "    array = AwkwardArray.RecordArray(\n",
    "        NamedTuple{(:pt, :eta, :phi, :mass, :charge, :isolation)}((\n",
    "            AwkwardArray.from_iter(events.Muon_pt),\n",
    "            AwkwardArray.from_iter(events.Muon_eta), \n",
    "            AwkwardArray.from_iter(events.Muon_phi), \n",
    "            AwkwardArray.from_iter(events.Muon_mass), \n",
    "            AwkwardArray.from_iter(events.Muon_charge), \n",
    "            AwkwardArray.from_iter(events.Muon_pfRelIso03_all),\n",
    "        )\n",
    "    ))\n",
    "    return AwkwardArray.convert(array)\n",
    "end\n",
    "\"\"\")"
   ]
  },
  {
   "cell_type": "code",
   "execution_count": null,
   "id": "bbd42166-0aa6-46ed-a832-26869c943e46",
   "metadata": {},
   "outputs": [],
   "source": [
    "%%time\n",
    "muons = jl.make_record_array(events)"
   ]
  },
  {
   "cell_type": "code",
   "execution_count": null,
   "id": "6e83cd8f-8132-4835-ae82-587a169aac4b",
   "metadata": {},
   "outputs": [],
   "source": [
    "%%time\n",
    "muons = jl.make_record_array(events)"
   ]
  },
  {
   "cell_type": "code",
   "execution_count": null,
   "id": "7b751158-14e5-4aff-8dac-5bdd12ec605b",
   "metadata": {},
   "outputs": [],
   "source": [
    "type(muons)"
   ]
  },
  {
   "cell_type": "code",
   "execution_count": null,
   "id": "c221a3fb-99f6-4b60-9f94-8adce48106aa",
   "metadata": {},
   "outputs": [],
   "source": [
    "muons"
   ]
  },
  {
   "cell_type": "code",
   "execution_count": null,
   "id": "d2a9113e-ce44-4be9-bc2c-6835dfe34571",
   "metadata": {},
   "outputs": [],
   "source": [
    "muons.pt"
   ]
  },
  {
   "cell_type": "code",
   "execution_count": null,
   "id": "ef106dd6-bb5a-4ab6-8408-9b6d6c09306c",
   "metadata": {},
   "outputs": [],
   "source": [
    "%%time\n",
    "muons = ak.zip({\n",
    "                \"pt\": muons_pt,\n",
    "                \"eta\": events.Muon_eta,\n",
    "                \"phi\": events.Muon_phi,\n",
    "                \"mass\": events.Muon_mass,\n",
    "                \"charge\": events.Muon_charge,\n",
    "                \"isolation\": events.Muon_pfRelIso03_all,\n",
    "            },)"
   ]
  },
  {
   "cell_type": "code",
   "execution_count": null,
   "id": "73d088b8-6357-4f13-86a0-5d1a5a7be27e",
   "metadata": {},
   "outputs": [],
   "source": [
    "muons"
   ]
  },
  {
   "cell_type": "markdown",
   "id": "2caf6cdd-ff9f-4c54-b189-e9300d2ab471",
   "metadata": {},
   "source": [
    "## Data Analysis Example "
   ]
  },
  {
   "cell_type": "markdown",
   "id": "1788a5fd-59fa-46df-8bf9-e7974021dcd7",
   "metadata": {},
   "source": [
    "Thanks to Iason Krommydas' - see his talk for more details."
   ]
  },
  {
   "cell_type": "code",
   "execution_count": null,
   "id": "a213b597-b256-429c-b4ad-711d48b779b6",
   "metadata": {},
   "outputs": [],
   "source": [
    "def find_4lep_kernel(events_leptons, builder):\n",
    "    \"\"\"Search for valid 4-lepton combinations from an array of events * leptons {charge, ...}\n",
    "\n",
    "    A valid candidate has two pairs of leptons that each have balanced charge\n",
    "    Outputs an array of events * candidates {indices 0..3} corresponding to all valid\n",
    "    permutations of all valid combinations of unique leptons in each event\n",
    "    (omitting permutations of the pairs)\n",
    "    \"\"\"\n",
    "    for leptons in events_leptons:\n",
    "        builder.begin_list()\n",
    "        nlep = len(leptons)\n",
    "        for i0 in range(nlep):\n",
    "            for i1 in range(i0 + 1, nlep):\n",
    "                if leptons[i0].charge + leptons[i1].charge != 0:\n",
    "                    continue\n",
    "                for i2 in range(nlep):\n",
    "                    for i3 in range(i2 + 1, nlep):\n",
    "                        if len({i0, i1, i2, i3}) < 4:\n",
    "                            continue\n",
    "                        if leptons[i2].charge + leptons[i3].charge != 0:\n",
    "                            continue\n",
    "                        builder.begin_tuple(4)\n",
    "                        builder.index(0).integer(i0)\n",
    "                        builder.index(1).integer(i1)\n",
    "                        builder.index(2).integer(i2)\n",
    "                        builder.index(3).integer(i3)\n",
    "                        builder.end_tuple()\n",
    "        builder.end_list()\n",
    "\n",
    "    return builder\n"
   ]
  },
  {
   "cell_type": "markdown",
   "id": "8d2619cd-68b4-428e-825b-2d246445d775",
   "metadata": {},
   "source": [
    "This code is translated to Julia by ChatGPT:"
   ]
  },
  {
   "cell_type": "code",
   "execution_count": null,
   "id": "a42048ea-6624-4625-9542-1bf725ae0139",
   "metadata": {},
   "outputs": [],
   "source": [
    "using AwkwardArray\n",
    "\n",
    "function find_4lep_kernel(events_leptons, builder)\n",
    "    \"\"\"\n",
    "    Search for valid 4-lepton combinations from an array of events * leptons {charge, ...}\n",
    "\n",
    "    A valid candidate has two pairs of leptons that each have balanced charge.\n",
    "    Outputs an array of events * candidates {indices 0..3} corresponding to all valid\n",
    "    permutations of all valid combinations of unique leptons in each event\n",
    "    (omitting permutations of the pairs).\n",
    "    \"\"\"\n",
    "    for leptons in events_leptons\n",
    "        builder.begin_list()\n",
    "        nlep = length(leptons)\n",
    "        for i0 in 1:nlep\n",
    "            for i1 in (i0 + 1):nlep\n",
    "                if leptons[i0].charge + leptons[i1].charge != 0\n",
    "                    continue\n",
    "                end\n",
    "                for i2 in 1:nlep\n",
    "                    for i3 in (i2 + 1):nlep\n",
    "                        if length(Set([i0, i1, i2, i3])) < 4\n",
    "                            continue\n",
    "                        end\n",
    "                        if leptons[i2].charge + leptons[i3].charge != 0\n",
    "                            continue\n",
    "                        end\n",
    "                        builder.begin_tuple(4)\n",
    "                        builder.index(1).integer(i0 - 1)  # Julia is 1-based, subtract 1 for 0-based indexing\n",
    "                        builder.index(2).integer(i1 - 1)\n",
    "                        builder.index(3).integer(i2 - 1)\n",
    "                        builder.index(4).integer(i3 - 1)\n",
    "                        builder.end_tuple()\n",
    "                    end\n",
    "                end\n",
    "            end\n",
    "        end\n",
    "        builder.end_list()\n",
    "    end\n",
    "\n",
    "    return builder\n",
    "end\n"
   ]
  },
  {
   "cell_type": "code",
   "execution_count": null,
   "id": "d6a432b4-0245-40d8-b5a9-3c389d08e153",
   "metadata": {},
   "outputs": [],
   "source": [
    "def process(self, events):\n",
    "        dataset_axis = hist.axis.StrCategory(\n",
    "            [], growth=True, name=\"dataset\", label=\"Primary dataset\"\n",
    "        )\n",
    "        mass_axis = hist.axis.Regular(\n",
    "            300, 0, 300, name=\"mass\", label=r\"$m_{\\mu\\mu}$ [GeV]\"\n",
    "        )\n",
    "        pt_axis = hist.axis.Regular(300, 0, 300, name=\"pt\", label=r\"$p_{T,\\mu}$ [GeV]\")\n",
    "\n",
    "        h_nMuons = hda.Hist(\n",
    "            dataset_axis,\n",
    "            hda.hist.hist.axis.IntCategory(\n",
    "                range(6), name=\"nMuons\", label=\"Number of good muons\"\n",
    "            ),\n",
    "            storage=\"weight\",\n",
    "            label=\"Counts\",\n",
    "        )\n",
    "        h_m4mu = hda.hist.Hist(\n",
    "            dataset_axis, mass_axis, storage=\"weight\", label=\"Counts\"\n",
    "        )\n",
    "        h_mZ1 = hda.hist.Hist(dataset_axis, mass_axis, storage=\"weight\", label=\"Counts\")\n",
    "        h_mZ2 = hda.hist.Hist(dataset_axis, mass_axis, storage=\"weight\", label=\"Counts\")\n",
    "        h_ptZ1mu1 = hda.hist.Hist(\n",
    "            dataset_axis, pt_axis, storage=\"weight\", label=\"Counts\"\n",
    "        )\n",
    "        h_ptZ1mu2 = hda.hist.Hist(\n",
    "            dataset_axis, pt_axis, storage=\"weight\", label=\"Counts\"\n",
    "        )\n",
    "\n",
    "        cutflow = dict()\n",
    "\n",
    "        dataset = events.metadata[\"dataset\"]\n",
    "        muons = ak.zip(\n",
    "            {\n",
    "                \"pt\": events.Muon_pt,\n",
    "                \"eta\": events.Muon_eta,\n",
    "                \"phi\": events.Muon_phi,\n",
    "                \"mass\": events.Muon_mass,\n",
    "                \"charge\": events.Muon_charge,\n",
    "                \"isolation\": events.Muon_pfRelIso03_all,\n",
    "            },\n",
    "            with_name=\"PtEtaPhiMCandidate\",\n",
    "            behavior=candidate.behavior,\n",
    "        )\n",
    "\n",
    "        # make sure they are sorted by transverse momentum\n",
    "        muons = muons[ak.argsort(muons.pt, axis=1)]\n",
    "\n",
    "        cutflow[\"all events\"] = ak.num(muons, axis=0)\n",
    "\n",
    "        # impose some quality and minimum pt cuts on the muons\n",
    "        muons = muons[(muons.pt > 5) & (muons.isolation < 0.2)]\n",
    "        cutflow[\"at least 4 good muons\"] = ak.sum(ak.num(muons) >= 4)\n",
    "        h_nMuons.fill(dataset=dataset, nMuons=ak.num(muons))\n",
    "\n",
    "        # reduce first axis: skip events without enough muons\n",
    "        muons = muons[ak.num(muons) >= 4]\n",
    "\n",
    "        # find all candidates with helper function\n",
    "        fourmuon = dak.map_partitions(find_4lep, muons)\n",
    "        fourmuon = [muons[fourmuon[idx]] for idx in \"0123\"]\n",
    "\n",
    "        fourmuon = ak.zip(\n",
    "            {\n",
    "                \"z1\": ak.zip(\n",
    "                    {\n",
    "                        \"lep1\": fourmuon[0],\n",
    "                        \"lep2\": fourmuon[1],\n",
    "                        \"p4\": fourmuon[0] + fourmuon[1],\n",
    "                    }\n",
    "                ),\n",
    "                \"z2\": ak.zip(\n",
    "                    {\n",
    "                        \"lep1\": fourmuon[2],\n",
    "                        \"lep2\": fourmuon[3],\n",
    "                        \"p4\": fourmuon[2] + fourmuon[3],\n",
    "                    }\n",
    "                ),\n",
    "            }\n",
    "        )\n",
    "\n",
    "        cutflow[\"at least one candidate\"] = ak.sum(ak.num(fourmuon) > 0)\n",
    "\n",
    "        # require minimum dimuon mass\n",
    "        fourmuon = fourmuon[(fourmuon.z1.p4.mass > 60.0) & (fourmuon.z2.p4.mass > 20.0)]\n",
    "        cutflow[\"minimum dimuon mass\"] = ak.sum(ak.num(fourmuon) > 0)\n",
    "\n",
    "        # choose permutation with z1 mass closest to nominal Z boson mass\n",
    "        bestz1 = ak.singletons(ak.argmin(abs(fourmuon.z1.p4.mass - 91.1876), axis=1))\n",
    "        fourmuon = ak.flatten(fourmuon[bestz1])\n",
    "\n",
    "        h_m4mu.fill(\n",
    "            dataset=dataset,\n",
    "            mass=(fourmuon.z1.p4 + fourmuon.z2.p4).mass,\n",
    "        )\n",
    "        h_mZ1.fill(\n",
    "            dataset=dataset,\n",
    "            mass=fourmuon.z1.p4.mass,\n",
    "        )\n",
    "        h_mZ2.fill(\n",
    "            dataset=dataset,\n",
    "            mass=fourmuon.z2.p4.mass,\n",
    "        )\n",
    "        h_ptZ1mu1.fill(\n",
    "            dataset=dataset,\n",
    "            pt=fourmuon.z1.lep1.pt,\n",
    "        )\n",
    "        h_ptZ1mu2.fill(\n",
    "            dataset=dataset,\n",
    "            pt=fourmuon.z1.lep2.pt,\n",
    "        )\n",
    "        return {\n",
    "            \"nMuons\": h_nMuons,\n",
    "            \"mass\": h_m4mu,\n",
    "            \"mass_z1\": h_mZ1,\n",
    "            \"mass_z2\": h_mZ2,\n",
    "            \"pt_z1_mu1\": h_ptZ1mu1,\n",
    "            \"pt_z1_mu2\": h_ptZ1mu2,\n",
    "            \"cutflow\": {dataset: cutflow},\n",
    "        }\n"
   ]
  },
  {
   "cell_type": "code",
   "execution_count": null,
   "id": "c02576a9-f7a0-44e2-9f28-3b10517cea5d",
   "metadata": {},
   "outputs": [],
   "source": [
    "using Histograms\n",
    "using Awkward\n",
    "using DataFrames\n",
    "using DataFramesMeta\n",
    "\n",
    "function process(events)\n",
    "    # Define axes\n",
    "    dataset_axis = Histograms.StrCategory([], growth=true, name=\"dataset\", label=\"Primary dataset\")\n",
    "    mass_axis = Histograms.Regular(300, 0, 300, name=\"mass\", label=\"\\$m_{\\mu\\mu}$ [GeV]\")\n",
    "    pt_axis = Histograms.Regular(300, 0, 300, name=\"pt\", label=\"\\$p_{T,\\mu}$ [GeV]\")\n",
    "\n",
    "    # Define histograms\n",
    "    h_nMuons = Histograms.Hist(dataset_axis, Histograms.IntCategory(0:5, name=\"nMuons\", label=\"Number of good muons\"), storage=\"weight\", label=\"Counts\")\n",
    "    h_m4mu = Histograms.Hist(dataset_axis, mass_axis, storage=\"weight\", label=\"Counts\")\n",
    "    h_mZ1 = Histograms.Hist(dataset_axis, mass_axis, storage=\"weight\", label=\"Counts\")\n",
    "    h_mZ2 = Histograms.Hist(dataset_axis, mass_axis, storage=\"weight\", label=\"Counts\")\n",
    "    h_ptZ1mu1 = Histograms.Hist(dataset_axis, pt_axis, storage=\"weight\", label=\"Counts\")\n",
    "    h_ptZ1mu2 = Histograms.Hist(dataset_axis, pt_axis, storage=\"weight\", label=\"Counts\")\n",
    "\n",
    "    cutflow = Dict()\n",
    "\n",
    "    dataset = events.metadata[\"dataset\"]\n",
    "\n",
    "    # Prepare muons\n",
    "    muons = Awkward.zip(Dict(\n",
    "        \"pt\" => events.Muon_pt,\n",
    "        \"eta\" => events.Muon_eta,\n",
    "        \"phi\" => events.Muon_phi,\n",
    "        \"mass\" => events.Muon_mass,\n",
    "        \"charge\" => events.Muon_charge,\n",
    "        \"isolation\" => events.Muon_pfRelIso03_all\n",
    "    ))\n",
    "\n",
    "    # Sort muons by transverse momentum\n",
    "    muons = muons[Awkward.argsort(muons.pt, axis=1)]\n",
    "\n",
    "    cutflow[\"all events\"] = Awkward.num(muons, axis=0)\n",
    "\n",
    "    # Quality and minimum pt cuts\n",
    "    muons = muons[(muons.pt .> 5) .& (muons.isolation .< 0.2)]\n",
    "    cutflow[\"at least 4 good muons\"] = sum(Awkward.num(muons) .>= 4)\n",
    "    Histograms.fill!(h_nMuons, Dict(\"dataset\" => dataset, \"nMuons\" => Awkward.num(muons)))\n",
    "\n",
    "    # Skip events without enough muons\n",
    "    muons = muons[Awkward.num(muons) .>= 4]\n",
    "\n",
    "    # Find four-muon candidates\n",
    "    fourmuon = find_4lep(muons)\n",
    "    fourmuon = [muons[fourmuon[idx]] for idx in [\"0\", \"1\", \"2\", \"3\"]]\n",
    "\n",
    "    fourmuon = Awkward.zip(Dict(\n",
    "        \"z1\" => Awkward.zip(Dict(\n",
    "            \"lep1\" => fourmuon[1],\n",
    "            \"lep2\" => fourmuon[2],\n",
    "            \"p4\" => fourmuon[1] + fourmuon[2]\n",
    "        )),\n",
    "        \"z2\" => Awkward.zip(Dict(\n",
    "            \"lep1\" => fourmuon[3],\n",
    "            \"lep2\" => fourmuon[4],\n",
    "            \"p4\" => fourmuon[3] + fourmuon[4]\n",
    "        ))\n",
    "    ))\n",
    "\n",
    "    cutflow[\"at least one candidate\"] = sum(Awkward.num(fourmuon) .> 0)\n",
    "\n",
    "    # Minimum dimuon mass requirement\n",
    "    fourmuon = fourmuon[(fourmuon.z1.p4.mass .> 60.0) .& (fourmuon.z2.p4.mass .> 20.0)]\n",
    "    cutflow[\"minimum dimuon mass\"] = sum(Awkward.num(fourmuon) .> 0)\n",
    "\n",
    "    # Choose permutation with z1 mass closest to nominal Z boson mass\n",
    "    bestz1 = Awkward.singletons(Awkward.argmin(abs.(fourmuon.z1.p4.mass .- 91.1876), axis=1))\n",
    "    fourmuon = Awkward.flatten(fourmuon[bestz1])\n",
    "\n",
    "    # Fill histograms\n",
    "    Histograms.fill!(h_m4mu, Dict(\"dataset\" => dataset, \"mass\" => (fourmuon.z1.p4 + fourmuon.z2.p4).mass))\n",
    "    Histograms.fill!(h_mZ1, Dict(\"dataset\" => dataset, \"mass\" => fourmuon.z1.p4.mass))\n",
    "    Histograms.fill!(h_mZ2, Dict(\"dataset\" => dataset, \"mass\" => fourmuon.z2.p4.mass))\n",
    "    Histograms.fill!(h_ptZ1mu1, Dict(\"dataset\" => dataset, \"pt\" => fourmuon.z1.lep1.pt))\n",
    "    Histograms.fill!(h_ptZ1mu2, Dict(\"dataset\" => dataset, \"pt\" => fourmuon.z1.lep2.pt))\n",
    "\n",
    "    return Dict(\n",
    "        \"nMuons\" => h_nMuons,\n",
    "        \"mass\" => h_m4mu,\n",
    "        \"mass_z1\" => h_mZ1,\n",
    "        \"mass_z2\" => h_mZ2,\n",
    "        \"pt_z1_mu1\" => h_ptZ1mu1,\n",
    "        \"pt_z1_mu2\" => h_ptZ1mu2,\n",
    "        \"cutflow\" => Dict(dataset => cutflow)\n",
    "    )\n",
    "end\n"
   ]
  },
  {
   "cell_type": "code",
   "execution_count": null,
   "id": "0ed6b5f7-7f21-4b0e-8306-e36e840a5179",
   "metadata": {},
   "outputs": [],
   "source": [
    "# Sort muons by transverse momentum\n",
    "muons = muons[ak.argsort(muons.pt, axis=1)]"
   ]
  },
  {
   "cell_type": "code",
   "execution_count": null,
   "id": "6cae04d4-d669-437e-a290-1750b3092577",
   "metadata": {},
   "outputs": [],
   "source": [
    "cutflow = {}\n",
    "cutflow[\"all events\"] = ak.num(muons, axis=0)"
   ]
  },
  {
   "cell_type": "code",
   "execution_count": null,
   "id": "c6c1e073-9dfb-4738-91c7-178170f95a42",
   "metadata": {},
   "outputs": [],
   "source": [
    "# Quality and minimum pt cuts\n",
    "# muons = muons[(muons.pt .> 5) .& (muons.isolation .< 0.2)]\n",
    "muons = muons[(muons.pt > 5) & (muons.isolation < 0.2)]\n",
    "cutflow[\"at least 4 good muons\"] = ak.sum(ak.num(muons) >= 4)"
   ]
  },
  {
   "cell_type": "code",
   "execution_count": null,
   "id": "08288a17-7796-49f1-9711-ab3a46a19b9f",
   "metadata": {},
   "outputs": [],
   "source": [
    "# Skip events without enough muons\n",
    "muons = muons[ak.num(muons) >= 4]"
   ]
  },
  {
   "cell_type": "code",
   "execution_count": null,
   "id": "b9cc26bc-0aaa-4a57-8e12-9c2c780c9a19",
   "metadata": {},
   "outputs": [],
   "source": [
    "muons"
   ]
  },
  {
   "cell_type": "code",
   "execution_count": null,
   "id": "102bb438-87f6-45a3-8ed2-d6fa71ce22f7",
   "metadata": {},
   "outputs": [],
   "source": [
    "jl.seval(\"\"\"\n",
    "using AwkwardArray\n",
    "\n",
    "function find_4lep(events_leptons)\n",
    "\n",
    "    array = AwkwardArray.ListArray{\n",
    "        AwkwardArray.Index64,\n",
    "        AwkwardArray.TupleArray{Tuple{\n",
    "            AwkwardArray.PrimitiveArray{Int64},\n",
    "            AwkwardArray.PrimitiveArray{Int64},\n",
    "            AwkwardArray.PrimitiveArray{Int64},\n",
    "            AwkwardArray.PrimitiveArray{Int64}}\n",
    "        }\n",
    "    }()\n",
    "    for leptons in events_leptons\n",
    "        nlep = length(leptons[:charge])\n",
    "        for i0 in 1:nlep\n",
    "            for i1 in (i0 + 1):nlep\n",
    "                if leptons[i0][:charge] + leptons[i1][:charge] != 0\n",
    "                    continue\n",
    "                end\n",
    "                for i2 in 1:nlep\n",
    "                    for i3 in (i2 + 1):nlep\n",
    "                        if length(Set([i0, i1, i2, i3])) < 4\n",
    "                            continue\n",
    "                        end\n",
    "                        if leptons[i2][:charge] + leptons[i3][:charge] != 0\n",
    "                            continue\n",
    "                        end\n",
    "                        \n",
    "                        push!(array.content, (i0 - 1))  # Julia is 1-based, subtract 1 for 0-based indexing\n",
    "                        push!(array.content, (i1 - 1))\n",
    "                        push!(array.content, (i2 - 1))\n",
    "                        push!(array.content, (i3 - 1))\n",
    "                        \n",
    "                        AwkwardArray.end_tuple!(array.content)\n",
    "                    end\n",
    "                end\n",
    "            end\n",
    "        end\n",
    "        AwkwardArray.end_list!(array)\n",
    "    end\n",
    "\n",
    "    return array\n",
    "\n",
    "end\n",
    "\"\"\")"
   ]
  },
  {
   "cell_type": "code",
   "execution_count": null,
   "id": "22a842f8-1c51-4fd7-95f5-dd66ffcf74d8",
   "metadata": {},
   "outputs": [],
   "source": [
    "# Find four-muon candidates\n",
    "jl.find_4lep(muons)"
   ]
  },
  {
   "cell_type": "code",
   "execution_count": null,
   "id": "10e8be5b-ecd5-4f69-8c18-54634ff96138",
   "metadata": {},
   "outputs": [],
   "source": []
  }
 ],
 "metadata": {
  "kernelspec": {
   "display_name": "Python 3 (ipykernel)",
   "language": "python",
   "name": "python3"
  },
  "language_info": {
   "codemirror_mode": {
    "name": "ipython",
    "version": 3
   },
   "file_extension": ".py",
   "mimetype": "text/x-python",
   "name": "python",
   "nbconvert_exporter": "python",
   "pygments_lexer": "ipython3",
   "version": "3.11.9"
  }
 },
 "nbformat": 4,
 "nbformat_minor": 5
}
