{
 "cells": [
  {
   "cell_type": "markdown",
   "id": "2f66ffb2-c48a-4f48-b3d1-a26133bde02b",
   "metadata": {},
   "source": [
    "# AwkwardArrays in Julia for High-Energy Physics Data Analysis"
   ]
  },
  {
   "cell_type": "markdown",
   "id": "82536633-6583-408f-91a7-cab97ce1d02d",
   "metadata": {},
   "source": [
    "AwkwardArrays are designed to handle irregular, nested data structures with Python being the primary language\n",
    "\n",
    " * [Reading RNTuple data with Uproot](https://ariostas-talks.github.io/2024-07-02-pyhep-uproot-rntuple/lab/index.html) by Andres Rios-Tascon\n",
    " * [Distributed Columnar HEP analysis using coffea + dask](https://github.com/ikrommyd/pyhep2024-coffea-dask) by Iason Krommydas\n",
    " * Easy Columnar File Conversion with ‘hepconvert' by Zoë Bilodeau\n",
    " * A new SymPy backend for vector: uniting experimental and theoretical physicists by Saransh Chopra\n",
    "\n",
    "Recent integration into Julia offers new possibilities"
   ]
  },
  {
   "cell_type": "markdown",
   "id": "dcaf2258",
   "metadata": {},
   "source": [
    "## Installation and Setup"
   ]
  },
  {
   "cell_type": "markdown",
   "id": "aacf2b69",
   "metadata": {},
   "source": [
    "PythonCall and Julia Call allow to call Python code from Julia and Julia code from Python via a symmetric interface."
   ]
  },
  {
   "cell_type": "code",
   "execution_count": 1,
   "id": "df348d1a",
   "metadata": {},
   "outputs": [
    {
     "name": "stdout",
     "output_type": "stream",
     "text": [
      "Requirement already satisfied: juliacall in /Users/yana/opt/anaconda3/envs/cppyy-py11/lib/python3.11/site-packages (0.9.20)\n",
      "Requirement already satisfied: juliapkg~=0.1.8 in /Users/yana/opt/anaconda3/envs/cppyy-py11/lib/python3.11/site-packages (from juliacall) (0.1.13)\n",
      "Requirement already satisfied: semver~=3.0 in /Users/yana/opt/anaconda3/envs/cppyy-py11/lib/python3.11/site-packages (from juliapkg~=0.1.8->juliacall) (3.0.2)\n",
      "Note: you may need to restart the kernel to use updated packages.\n"
     ]
    }
   ],
   "source": [
    "pip install juliacall"
   ]
  },
  {
   "cell_type": "code",
   "execution_count": 2,
   "id": "7eb8233c",
   "metadata": {},
   "outputs": [
    {
     "name": "stdout",
     "output_type": "stream",
     "text": [
      "Detected IPython. Loading juliacall extension. See https://juliapy.github.io/PythonCall.jl/stable/compat/#IPython\n"
     ]
    }
   ],
   "source": [
    "from juliacall import Main as jl"
   ]
  },
  {
   "cell_type": "code",
   "execution_count": null,
   "id": "a213b597-b256-429c-b4ad-711d48b779b6",
   "metadata": {},
   "outputs": [],
   "source": []
  }
 ],
 "metadata": {
  "kernelspec": {
   "display_name": "Python 3 (ipykernel)",
   "language": "python",
   "name": "python3"
  },
  "language_info": {
   "codemirror_mode": {
    "name": "ipython",
    "version": 3
   },
   "file_extension": ".py",
   "mimetype": "text/x-python",
   "name": "python",
   "nbconvert_exporter": "python",
   "pygments_lexer": "ipython3",
   "version": "3.11.0"
  }
 },
 "nbformat": 4,
 "nbformat_minor": 5
}
