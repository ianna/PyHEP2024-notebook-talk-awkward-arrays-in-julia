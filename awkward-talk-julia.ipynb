{
 "cells": [
  {
   "cell_type": "code",
   "execution_count": null,
   "id": "1b876981-af3a-4d08-b0c4-429b559053fb",
   "metadata": {},
   "outputs": [],
   "source": [
    "using Pkg\n",
    "Pkg.add(\"UnROOT\")"
   ]
  },
  {
   "cell_type": "code",
   "execution_count": null,
   "id": "105304b0-da92-47c3-8012-2afe11fbcb10",
   "metadata": {},
   "outputs": [],
   "source": [
    "using UnROOT"
   ]
  },
  {
   "cell_type": "code",
   "execution_count": null,
   "id": "41ecf96c-3bf8-4965-b4f5-6be6cd3c76e1",
   "metadata": {},
   "outputs": [],
   "source": [
    "file = ROOTFile(\"data/SMHiggsToZZTo4L.root\")"
   ]
  },
  {
   "cell_type": "code",
   "execution_count": null,
   "id": "6548e24c-1500-4ed6-b0c6-5ec5fd2784db",
   "metadata": {},
   "outputs": [],
   "source": [
    "events = LazyTree(file, \"Events\")"
   ]
  },
  {
   "cell_type": "code",
   "execution_count": null,
   "id": "258cf9f1-64ea-4527-80ad-3c75f8c9ebb7",
   "metadata": {},
   "outputs": [],
   "source": [
    "using AwkwardArray"
   ]
  },
  {
   "cell_type": "code",
   "execution_count": null,
   "id": "81b86933-f68c-4bce-96a8-a34535de082f",
   "metadata": {},
   "outputs": [],
   "source": [
    "muons = AwkwardArray.RecordArray(\n",
    "        NamedTuple{(:pt, :eta, :phi, :mass, :charge, :isolation)}((\n",
    "            AwkwardArray.from_iter(events.Muon_pt),\n",
    "            AwkwardArray.from_iter(events.Muon_eta), \n",
    "            AwkwardArray.from_iter(events.Muon_phi), \n",
    "            AwkwardArray.from_iter(events.Muon_mass), \n",
    "            AwkwardArray.from_iter(events.Muon_charge), \n",
    "            AwkwardArray.from_iter(events.Muon_pfRelIso03_all),\n",
    "        )\n",
    "    ))"
   ]
  },
  {
   "cell_type": "code",
   "execution_count": null,
   "id": "f4b8ad9a-88ed-4a1c-8595-8cab74273714",
   "metadata": {},
   "outputs": [],
   "source": [
    "using PythonCall"
   ]
  },
  {
   "cell_type": "code",
   "execution_count": null,
   "id": "cb5eba64-16b7-4e1e-a3dd-4688953ab6d2",
   "metadata": {},
   "outputs": [],
   "source": [
    "four_muons = AwkwardArray.ListArray{\n",
    "    AwkwardArray.Index64,\n",
    "    AwkwardArray.TupleArray{Tuple{\n",
    "        AwkwardArray.PrimitiveArray{Int64},\n",
    "        AwkwardArray.PrimitiveArray{Int64},\n",
    "        AwkwardArray.PrimitiveArray{Int64},\n",
    "        AwkwardArray.PrimitiveArray{Int64}}\n",
    "    }\n",
    "}()"
   ]
  },
  {
   "cell_type": "code",
   "execution_count": null,
   "id": "04eb6557-7520-4922-811f-4c21fc88d3f7",
   "metadata": {},
   "outputs": [],
   "source": [
    "push!(AwkwardArray.slot(four_muons.content, 1), 1)\n",
    "push!(AwkwardArray.slot(four_muons.content, 2), 2)\n",
    "push!(AwkwardArray.slot(four_muons.content, 3), 3)\n",
    "push!(AwkwardArray.slot(four_muons.content, 4), 4)"
   ]
  },
  {
   "cell_type": "code",
   "execution_count": null,
   "id": "ae1f2c6c-6380-4660-89f1-99956f358c6c",
   "metadata": {},
   "outputs": [],
   "source": [
    "four_muons = AwkwardArray.ListArray{\n",
    "    AwkwardArray.Index64,\n",
    "    AwkwardArray.PrimitiveArray{Int64},\n",
    "}()"
   ]
  },
  {
   "cell_type": "code",
   "execution_count": null,
   "id": "0ed307f2-d113-49d8-8c43-3f2e165317ce",
   "metadata": {},
   "outputs": [],
   "source": [
    "function find_4lep(events_leptons)\n",
    "\n",
    "    for leptons in events_leptons\n",
    "        nlep = length(leptons[:charge])\n",
    "        for i0 in 1:nlep\n",
    "            for i1 in (i0 + 1):nlep\n",
    "                if leptons[:charge][i0] + leptons[:charge][i1] != 0\n",
    "                    continue\n",
    "                end\n",
    "                for i2 in 1:nlep\n",
    "                    for i3 in (i2 + 1):nlep\n",
    "                        if length(Set([i0, i1, i2, i3])) < 4\n",
    "                            continue\n",
    "                        end\n",
    "                        if leptons[:charge][i2] + leptons[:charge][i3] != 0\n",
    "                            continue\n",
    "                        end\n",
    "                        # push!(AwkwardArray.slot(four_muons.content, 1), (i0 - 1))  # Julia is 1-based, subtract 1 for 0-based indexing\n",
    "                        # push!(AwkwardArray.slot(four_muons.content, 2), (i1 - 1))\n",
    "                        # push!(AwkwardArray.slot(four_muons.content, 3), (i2 - 1))\n",
    "                        # push!(AwkwardArray.slot(four_muons.content, 4), (i3 - 1))\n",
    "                        \n",
    "                        # AwkwardArray.end_tuple!(four_muons.content)\n",
    "                        push!(four_muons.content, (i0 - 1)) # Julia is 1-based, subtract 1 for 0-based indexing\n",
    "                        push!(four_muons.content, (i1 - 1))\n",
    "                        push!(four_muons.content, (i2 - 1))\n",
    "                        push!(four_muons.content, (i3 - 1))\n",
    "                        AwkwardArray.end_list!(four_muons)\n",
    "                    end\n",
    "                end\n",
    "            end \n",
    "        end\n",
    "    end\n",
    "end"
   ]
  },
  {
   "cell_type": "code",
   "execution_count": null,
   "id": "272dfcc4-07cc-40a4-834a-d655d99d59fb",
   "metadata": {},
   "outputs": [],
   "source": [
    "find_4lep(muons[1:10])"
   ]
  },
  {
   "cell_type": "code",
   "execution_count": null,
   "id": "8672255a-2c5f-48f8-982e-32adc2c5d50d",
   "metadata": {},
   "outputs": [],
   "source": [
    "four_muons"
   ]
  },
  {
   "cell_type": "code",
   "execution_count": null,
   "id": "091011e5-6598-42e5-b2e5-0a289ea2801e",
   "metadata": {},
   "outputs": [],
   "source": []
  }
 ],
 "metadata": {
  "kernelspec": {
   "display_name": "Julia 1.9.2",
   "language": "julia",
   "name": "julia-1.9"
  },
  "language_info": {
   "file_extension": ".jl",
   "mimetype": "application/julia",
   "name": "julia",
   "version": "1.9.2"
  }
 },
 "nbformat": 4,
 "nbformat_minor": 5
}
