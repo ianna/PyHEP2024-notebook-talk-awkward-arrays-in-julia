{
 "cells": [
  {
   "cell_type": "code",
   "execution_count": 1,
   "id": "1b876981-af3a-4d08-b0c4-429b559053fb",
   "metadata": {},
   "outputs": [
    {
     "name": "stderr",
     "output_type": "stream",
     "text": [
      "\u001b[32m\u001b[1m   Resolving\u001b[22m\u001b[39m package versions...\n",
      "\u001b[32m\u001b[1m  No Changes\u001b[22m\u001b[39m to `~/.julia/environments/v1.9/Project.toml`\n",
      "\u001b[32m\u001b[1m  No Changes\u001b[22m\u001b[39m to `~/.julia/environments/v1.9/Manifest.toml`\n"
     ]
    }
   ],
   "source": [
    "using Pkg\n",
    "Pkg.add(\"UnROOT\")"
   ]
  },
  {
   "cell_type": "code",
   "execution_count": 2,
   "id": "105304b0-da92-47c3-8012-2afe11fbcb10",
   "metadata": {},
   "outputs": [],
   "source": [
    "using UnROOT"
   ]
  },
  {
   "cell_type": "code",
   "execution_count": 3,
   "id": "41ecf96c-3bf8-4965-b4f5-6be6cd3c76e1",
   "metadata": {},
   "outputs": [
    {
     "data": {
      "text/plain": [
       "ROOTFile with 1 entry and 18 streamers.\n",
       "data/SMHiggsToZZTo4L.root\n",
       "└─ Events (TTree)\n",
       "   ├─ \"run\"\n",
       "   ├─ \"luminosityBlock\"\n",
       "   ├─ \"event\"\n",
       "   ├─ \"⋮\"\n",
       "   ├─ \"Electron_dzErr\"\n",
       "   ├─ \"MET_pt\"\n",
       "   └─ \"MET_phi\"\n"
      ]
     },
     "execution_count": 3,
     "metadata": {},
     "output_type": "execute_result"
    }
   ],
   "source": [
    "file = ROOTFile(\"data/SMHiggsToZZTo4L.root\")"
   ]
  },
  {
   "cell_type": "code",
   "execution_count": 4,
   "id": "6548e24c-1500-4ed6-b0c6-5ec5fd2784db",
   "metadata": {},
   "outputs": [
    {
     "data": {
      "text/plain": [
       "\u001b[1m Row \u001b[0m│\u001b[1m Electron_mass   \u001b[0m\u001b[1m nElectron \u001b[0m\u001b[1m luminosityBlock \u001b[0m\u001b[1m nMuon  \u001b[0m\u001b[1m Electron_phi    \u001b[0m\u001b[1m M\u001b[0m ⋯\n",
       "     │\u001b[90m SubArray{Float3 \u001b[0m\u001b[90m UInt32    \u001b[0m\u001b[90m UInt32          \u001b[0m\u001b[90m UInt32 \u001b[0m\u001b[90m SubArray{Float3 \u001b[0m\u001b[90m F\u001b[0m ⋯\n",
       "─────┼──────────────────────────────────────────────────────────────────────────\n",
       " 1   │ []               0          156              3       []               - ⋯\n",
       " 2   │ [0.00544,        4          156              0       [0.134, -1       2 ⋯\n",
       " 3   │ [-0.00609,       2          156              0       [2.18, 1.6       - ⋯\n",
       " 4   │ [-0.00123]       1          156              7       [-0.643]         - ⋯\n",
       " 5   │ [0.0117, 0       4          156              0       [1.01, -1.       1 ⋯\n",
       " 6   │ [-0.00183]       1          156              2       [-0.497]         - ⋯\n",
       " 7   │ [-0.00183]       1          156              1       [-1.47]          - ⋯\n",
       " 8   │ [-0.00216]       1          156              0       [-0.633]         - ⋯\n",
       " 9   │ [-0.0128,        4          156              0       [2.79, -2.       - ⋯\n",
       " 10  │ []               0          156              0       []               - ⋯\n",
       " 11  │ [-0.00119,       2          156              1       [2.28, -2.       0 ⋯\n",
       " 12  │ [0.00608,        3          156              2       [-1.31, -1       2 ⋯\n",
       " 13  │ [-0.00765,       4          156              0       [2.52, -3.       - ⋯\n",
       " 14  │ []               0          156              2       []               - ⋯\n",
       " 15  │ []               0          156              0       []               - ⋯\n",
       " 16  │ []               0          156              2       []               - ⋯\n",
       " 17  │ [0.0149, -       4          156              1       [1.82, -2.       - ⋯\n",
       " 18  │ [0.0407]         1          156              1       [2.18]           0 ⋯\n",
       " 19  │ []               0          156              3       []               - ⋯\n",
       " 20  │ [0.0144, 0       2          156              3       [-2.56, -2       0 ⋯\n",
       " 21  │ [-0.00491,       2          156              2       [-1.41, 0.       1 ⋯\n",
       "  ⋮  │        ⋮             ⋮             ⋮           ⋮            ⋮           ⋱\n",
       "\u001b[36m                                              27 columns and 299952 rows omitted\u001b[0m\n"
      ]
     },
     "execution_count": 4,
     "metadata": {},
     "output_type": "execute_result"
    }
   ],
   "source": [
    "events = LazyTree(file, \"Events\")"
   ]
  },
  {
   "cell_type": "code",
   "execution_count": 5,
   "id": "258cf9f1-64ea-4527-80ad-3c75f8c9ebb7",
   "metadata": {},
   "outputs": [],
   "source": [
    "using AwkwardArray"
   ]
  },
  {
   "cell_type": "code",
   "execution_count": 6,
   "id": "81b86933-f68c-4bce-96a8-a34535de082f",
   "metadata": {},
   "outputs": [
    {
     "data": {
      "text/plain": [
       "299973-element AwkwardArray.RecordArray{(:pt, :eta, :phi, :mass, :charge, :isolation), Tuple{AwkwardArray.ListOffsetArray{Vector{Int64}, AwkwardArray.PrimitiveArray{Float32, Vector{Float32}, :default}, :default}, AwkwardArray.ListOffsetArray{Vector{Int64}, AwkwardArray.PrimitiveArray{Float32, Vector{Float32}, :default}, :default}, AwkwardArray.ListOffsetArray{Vector{Int64}, AwkwardArray.PrimitiveArray{Float32, Vector{Float32}, :default}, :default}, AwkwardArray.ListOffsetArray{Vector{Int64}, AwkwardArray.PrimitiveArray{Float32, Vector{Float32}, :default}, :default}, AwkwardArray.ListOffsetArray{Vector{Int64}, AwkwardArray.PrimitiveArray{Int32, Vector{Int32}, :default}, :default}, AwkwardArray.ListOffsetArray{Vector{Int64}, AwkwardArray.PrimitiveArray{Float32, Vector{Float32}, :default}, :default}}, :default}:\n",
       " {pt: [63.04387f0, ..., 4.0486875f0], eta: [...], phi: [...], mass: [...], ...}\n",
       " {pt: [], eta: [], phi: [], mass: [], charge: [], isolation: []}\n",
       " {pt: [], eta: [], phi: [], mass: [], charge: [], isolation: []}\n",
       " {pt: [54.33275f0, ..., 3.4901235f0], eta: [...], phi: [...], mass: [...], ...}\n",
       " {pt: [], eta: [], phi: [], mass: [], charge: [], isolation: []}\n",
       " {pt: [38.503757f0, 47.00221f0], eta: [0.31490338f0, ...], phi: [...], ...}\n",
       " {pt: [4.453538f0], eta: [-0.98603296f0], phi: [1.1232322f0], mass: ..., ...}\n",
       " {pt: [], eta: [], phi: [], mass: [], charge: [], isolation: []}\n",
       " {pt: [], eta: [], phi: [], mass: [], charge: [], isolation: []}\n",
       " {pt: [], eta: [], phi: [], mass: [], charge: [], isolation: []}\n",
       " {pt: [3.0800893f0], eta: [1.9407839f0], phi: [1.1805427f0], mass: ..., ...}\n",
       " {pt: [27.426336f0, 67.710526f0], eta: [...], phi: [...], mass: [...], ...}\n",
       " {pt: [], eta: [], phi: [], mass: [], charge: [], isolation: []}\n",
       " ⋮\n",
       " {pt: [], eta: [], phi: [], mass: [], charge: [], isolation: []}\n",
       " {pt: [], eta: [], phi: [], mass: [], charge: [], isolation: []}\n",
       " {pt: [], eta: [], phi: [], mass: [], charge: [], isolation: []}\n",
       " {pt: [37.18836f0, 50.064648f0], eta: [1.1022879f0, ...], phi: [...], ...}\n",
       " {pt: [43.15527f0, 23.953928f0], eta: [2.1480477f0, ...], phi: [...], ...}\n",
       " {pt: [24.249857f0, 79.544136f0], eta: [...], phi: [...], mass: [...], ...}\n",
       " {pt: [], eta: [], phi: [], mass: [], charge: [], isolation: []}\n",
       " {pt: [9.8097515f0, 25.515368f0], eta: [2.0740957f0, ...], phi: [...], ...}\n",
       " {pt: [32.55726f0, 43.079132f0], eta: [1.1114231f0, ...], phi: [...], ...}\n",
       " {pt: [4.3161483f0, ..., 4.7507796f0], eta: [...], phi: [...], mass: [...], ...}\n",
       " {pt: [], eta: [], phi: [], mass: [], charge: [], isolation: []}\n",
       " {pt: [], eta: [], phi: [], mass: [], charge: [], isolation: []}"
      ]
     },
     "execution_count": 6,
     "metadata": {},
     "output_type": "execute_result"
    }
   ],
   "source": [
    "muons = AwkwardArray.RecordArray(\n",
    "        NamedTuple{(:pt, :eta, :phi, :mass, :charge, :isolation)}((\n",
    "            AwkwardArray.from_iter(events.Muon_pt),\n",
    "            AwkwardArray.from_iter(events.Muon_eta), \n",
    "            AwkwardArray.from_iter(events.Muon_phi), \n",
    "            AwkwardArray.from_iter(events.Muon_mass), \n",
    "            AwkwardArray.from_iter(events.Muon_charge), \n",
    "            AwkwardArray.from_iter(events.Muon_pfRelIso03_all),\n",
    "        )\n",
    "    ))"
   ]
  },
  {
   "cell_type": "code",
   "execution_count": 7,
   "id": "f4b8ad9a-88ed-4a1c-8595-8cab74273714",
   "metadata": {},
   "outputs": [],
   "source": [
    "using PythonCall"
   ]
  },
  {
   "cell_type": "code",
   "execution_count": 8,
   "id": "cb5eba64-16b7-4e1e-a3dd-4688953ab6d2",
   "metadata": {},
   "outputs": [
    {
     "data": {
      "text/plain": [
       "0-element AwkwardArray.ListArray{Vector{Int64}, AwkwardArray.TupleArray{NTuple{4, AwkwardArray.PrimitiveArray{Int64, Vector{Int64}, :default}}, :default}, :default}"
      ]
     },
     "execution_count": 8,
     "metadata": {},
     "output_type": "execute_result"
    }
   ],
   "source": [
    "four_muons = AwkwardArray.ListArray{\n",
    "    AwkwardArray.Index64,\n",
    "    AwkwardArray.TupleArray{Tuple{\n",
    "        AwkwardArray.PrimitiveArray{Int64},\n",
    "        AwkwardArray.PrimitiveArray{Int64},\n",
    "        AwkwardArray.PrimitiveArray{Int64},\n",
    "        AwkwardArray.PrimitiveArray{Int64}}\n",
    "    }\n",
    "}()"
   ]
  },
  {
   "cell_type": "code",
   "execution_count": 9,
   "id": "04eb6557-7520-4922-811f-4c21fc88d3f7",
   "metadata": {},
   "outputs": [
    {
     "data": {
      "text/plain": [
       "1-element Vector{Int64}:\n",
       " 4"
      ]
     },
     "execution_count": 9,
     "metadata": {},
     "output_type": "execute_result"
    }
   ],
   "source": [
    "push!(AwkwardArray.slot(four_muons.content, 1), 1)\n",
    "push!(AwkwardArray.slot(four_muons.content, 2), 2)\n",
    "push!(AwkwardArray.slot(four_muons.content, 3), 3)\n",
    "push!(AwkwardArray.slot(four_muons.content, 4), 4)"
   ]
  },
  {
   "cell_type": "code",
   "execution_count": 10,
   "id": "ae1f2c6c-6380-4660-89f1-99956f358c6c",
   "metadata": {},
   "outputs": [
    {
     "data": {
      "text/plain": [
       "0-element AwkwardArray.ListArray{Vector{Int64}, AwkwardArray.PrimitiveArray{Int64, Vector{Int64}, :default}, :default}"
      ]
     },
     "execution_count": 10,
     "metadata": {},
     "output_type": "execute_result"
    }
   ],
   "source": [
    "four_muons = AwkwardArray.ListArray{\n",
    "    AwkwardArray.Index64,\n",
    "    AwkwardArray.PrimitiveArray{Int64},\n",
    "}()"
   ]
  },
  {
   "cell_type": "code",
   "execution_count": 11,
   "id": "0ed307f2-d113-49d8-8c43-3f2e165317ce",
   "metadata": {},
   "outputs": [
    {
     "data": {
      "text/plain": [
       "find_4lep (generic function with 1 method)"
      ]
     },
     "execution_count": 11,
     "metadata": {},
     "output_type": "execute_result"
    }
   ],
   "source": [
    "function find_4lep(events_leptons)\n",
    "\n",
    "    for leptons in events_leptons\n",
    "        nlep = length(leptons[:charge])\n",
    "        for i0 in 1:nlep\n",
    "            for i1 in (i0 + 1):nlep\n",
    "                if leptons[:charge][i0] + leptons[:charge][i1] != 0\n",
    "                    continue\n",
    "                end\n",
    "                for i2 in 1:nlep\n",
    "                    for i3 in (i2 + 1):nlep\n",
    "                        if length(Set([i0, i1, i2, i3])) < 4\n",
    "                            continue\n",
    "                        end\n",
    "                        if leptons[:charge][i2] + leptons[:charge][i3] != 0\n",
    "                            continue\n",
    "                        end\n",
    "                        # push!(AwkwardArray.slot(four_muons.content, 1), (i0 - 1))  # Julia is 1-based, subtract 1 for 0-based indexing\n",
    "                        # push!(AwkwardArray.slot(four_muons.content, 2), (i1 - 1))\n",
    "                        # push!(AwkwardArray.slot(four_muons.content, 3), (i2 - 1))\n",
    "                        # push!(AwkwardArray.slot(four_muons.content, 4), (i3 - 1))\n",
    "                        \n",
    "                        # AwkwardArray.end_tuple!(four_muons.content)\n",
    "                        push!(four_muons.content, (i0 - 1)) # Julia is 1-based, subtract 1 for 0-based indexing\n",
    "                        push!(four_muons.content, (i1 - 1))\n",
    "                        push!(four_muons.content, (i2 - 1))\n",
    "                        push!(four_muons.content, (i3 - 1))\n",
    "                        AwkwardArray.end_list!(four_muons)\n",
    "                    end\n",
    "                end\n",
    "            end \n",
    "        end\n",
    "    end\n",
    "end"
   ]
  },
  {
   "cell_type": "code",
   "execution_count": 12,
   "id": "272dfcc4-07cc-40a4-834a-d655d99d59fb",
   "metadata": {},
   "outputs": [],
   "source": [
    "find_4lep(muons[1:10])"
   ]
  },
  {
   "cell_type": "code",
   "execution_count": 13,
   "id": "8672255a-2c5f-48f8-982e-32adc2c5d50d",
   "metadata": {},
   "outputs": [
    {
     "data": {
      "text/plain": [
       "72-element AwkwardArray.ListArray{Vector{Int64}, AwkwardArray.PrimitiveArray{Int64, Vector{Int64}, :default}, :default}:\n",
       " [0, 1, 2, 3]\n",
       " [0, 1, 2, 6]\n",
       " [0, 1, 3, 4]\n",
       " [0, 1, 3, 5]\n",
       " [0, 1, 4, 6]\n",
       " [0, 1, 5, 6]\n",
       " [0, 2, 1, 3]\n",
       " [0, 2, 1, 6]\n",
       " [0, 2, 3, 4]\n",
       " [0, 2, 3, 5]\n",
       " [0, 2, 4, 6]\n",
       " [0, 2, 5, 6]\n",
       " [0, 4, 1, 3]\n",
       " ⋮\n",
       " [4, 6, 0, 1]\n",
       " [4, 6, 0, 2]\n",
       " [4, 6, 0, 5]\n",
       " [4, 6, 1, 3]\n",
       " [4, 6, 2, 3]\n",
       " [4, 6, 3, 5]\n",
       " [5, 6, 0, 1]\n",
       " [5, 6, 0, 2]\n",
       " [5, 6, 0, 4]\n",
       " [5, 6, 1, 3]\n",
       " [5, 6, 2, 3]\n",
       " [5, 6, 3, 4]"
      ]
     },
     "execution_count": 13,
     "metadata": {},
     "output_type": "execute_result"
    }
   ],
   "source": [
    "four_muons"
   ]
  },
  {
   "cell_type": "code",
   "execution_count": null,
   "id": "091011e5-6598-42e5-b2e5-0a289ea2801e",
   "metadata": {},
   "outputs": [],
   "source": []
  }
 ],
 "metadata": {
  "kernelspec": {
   "display_name": "Julia 1.9.2",
   "language": "julia",
   "name": "julia-1.9"
  },
  "language_info": {
   "file_extension": ".jl",
   "mimetype": "application/julia",
   "name": "julia",
   "version": "1.9.2"
  }
 },
 "nbformat": 4,
 "nbformat_minor": 5
}
