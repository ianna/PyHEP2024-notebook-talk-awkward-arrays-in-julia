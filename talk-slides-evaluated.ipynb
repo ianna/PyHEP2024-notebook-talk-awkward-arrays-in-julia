{
 "cells": [
  {
   "cell_type": "markdown",
   "id": "2f66ffb2-c48a-4f48-b3d1-a26133bde02b",
   "metadata": {},
   "source": [
    "# AwkwardArrays in Julia for High-Energy Physics Data Analysis"
   ]
  },
  {
   "cell_type": "markdown",
   "id": "82536633-6583-408f-91a7-cab97ce1d02d",
   "metadata": {},
   "source": [
    "AwkwardArrays are designed to handle irregular, nested data structures with Python being the primary language\n",
    "\n",
    " * [Reading RNTuple data with Uproot](https://ariostas-talks.github.io/2024-07-02-pyhep-uproot-rntuple/lab/index.html) by Andres Rios-Tascon\n",
    " * [Distributed Columnar HEP analysis using coffea + dask](https://github.com/ikrommyd/pyhep2024-coffea-dask) by Iason Krommydas\n",
    " * Easy Columnar File Conversion with ‘hepconvert' by Zoë Bilodeau\n",
    " * A new SymPy backend for vector: uniting experimental and theoretical physicists by Saransh Chopra\n",
    "\n",
    "Recent integration into Julia offers new possibilities"
   ]
  },
  {
   "cell_type": "markdown",
   "id": "7bce9445-3dc0-48c1-90c6-02627c1ea9c5",
   "metadata": {},
   "source": [
    "## Why Julia?"
   ]
  },
  {
   "cell_type": "markdown",
   "id": "7e054267-77f2-4ae6-b6f3-db884d2f18c1",
   "metadata": {},
   "source": [
    "Sharing Awkward Array data structures between Python and Julia to encourage the Python users to run their analysis both in an eco-system of their choice and in Julia\n",
    "\n",
    "Physicists are using Awkward Array in Python and data format conversion is the hardest part of language boundary-hopping"
   ]
  },
  {
   "cell_type": "markdown",
   "id": "dcaf2258",
   "metadata": {},
   "source": [
    "## Installation and Setup"
   ]
  },
  {
   "cell_type": "markdown",
   "id": "aacf2b69",
   "metadata": {},
   "source": [
    "PythonCall and Julia Call allow to call Python code from Julia and Julia code from Python via a symmetric interface."
   ]
  },
  {
   "cell_type": "code",
   "execution_count": 1,
   "id": "df348d1a",
   "metadata": {
    "scrolled": true
   },
   "outputs": [
    {
     "name": "stdout",
     "output_type": "stream",
     "text": [
      "Requirement already satisfied: juliacall in /Users/yana/anaconda3/envs/py311-julia19/lib/python3.11/site-packages (0.9.20)\n",
      "Requirement already satisfied: juliapkg~=0.1.8 in /Users/yana/anaconda3/envs/py311-julia19/lib/python3.11/site-packages (from juliacall) (0.1.13)\n",
      "Requirement already satisfied: semver~=3.0 in /Users/yana/anaconda3/envs/py311-julia19/lib/python3.11/site-packages (from juliapkg~=0.1.8->juliacall) (3.0.2)\n",
      "Note: you may need to restart the kernel to use updated packages.\n"
     ]
    }
   ],
   "source": [
    "pip install juliacall"
   ]
  },
  {
   "cell_type": "code",
   "execution_count": 2,
   "id": "7eb8233c",
   "metadata": {},
   "outputs": [
    {
     "name": "stdout",
     "output_type": "stream",
     "text": [
      "Detected IPython. Loading juliacall extension. See https://juliapy.github.io/PythonCall.jl/stable/compat/#IPython\n"
     ]
    }
   ],
   "source": [
    "from juliacall import Main as jl"
   ]
  },
  {
   "cell_type": "markdown",
   "id": "a5f39429-fdeb-4000-b07d-71dde1a97814",
   "metadata": {},
   "source": [
    "## Install UnROOT"
   ]
  },
  {
   "cell_type": "code",
   "execution_count": 3,
   "id": "66548385-647b-4411-8d87-8b3f4a00aacb",
   "metadata": {},
   "outputs": [
    {
     "name": "stderr",
     "output_type": "stream",
     "text": [
      "   Resolving package versions...\n",
      "  No Changes to `~/anaconda3/envs/py311-julia19/julia_env/Project.toml`\n",
      "  No Changes to `~/anaconda3/envs/py311-julia19/julia_env/Manifest.toml`\n"
     ]
    }
   ],
   "source": [
    "jl.seval(\"using Pkg\")\n",
    "jl.seval(\"Pkg.add(\\\"UnROOT\\\")\")"
   ]
  },
  {
   "cell_type": "markdown",
   "id": "16db7e7e-5dcb-40cc-9097-0bf6fdd44cd2",
   "metadata": {},
   "source": [
    "## Reading data"
   ]
  },
  {
   "cell_type": "code",
   "execution_count": 4,
   "id": "8a699c32-7244-4a6d-bc33-415333c8656a",
   "metadata": {},
   "outputs": [],
   "source": [
    "jl.seval(\"using UnROOT\")"
   ]
  },
  {
   "cell_type": "code",
   "execution_count": 5,
   "id": "995b4902-1e9e-42f4-9537-edab94e1735d",
   "metadata": {},
   "outputs": [],
   "source": [
    "file = jl.Main.ROOTFile(\"data/SMHiggsToZZTo4L.root\")"
   ]
  },
  {
   "cell_type": "code",
   "execution_count": 6,
   "id": "289ef60f-b690-41f2-8ebb-6d33cc9c05a8",
   "metadata": {},
   "outputs": [
    {
     "data": {
      "text/plain": [
       "ROOTFile with 1 entry and 18 streamers.\n",
       "data/SMHiggsToZZTo4L.root\n",
       "└─ Events (TTree)\n",
       "   ├─ \"run\"\n",
       "   ├─ \"luminosityBlock\"\n",
       "   ├─ \"event\"\n",
       "   ├─ \"⋮\"\n",
       "   ├─ \"Electron_dzErr\"\n",
       "   ├─ \"MET_pt\"\n",
       "   └─ \"MET_phi\"\n"
      ]
     },
     "execution_count": 6,
     "metadata": {},
     "output_type": "execute_result"
    }
   ],
   "source": [
    "file"
   ]
  },
  {
   "cell_type": "code",
   "execution_count": 7,
   "id": "9bb0f27d-e8cd-41ac-a367-8c1c8b552db3",
   "metadata": {},
   "outputs": [],
   "source": [
    "events = jl.Main.LazyTree(file, \"Events\")"
   ]
  },
  {
   "cell_type": "code",
   "execution_count": 8,
   "id": "e577eecd-a686-4067-8db6-7737c349dc36",
   "metadata": {},
   "outputs": [
    {
     "data": {
      "text/plain": [
       " Row │ Electron_mass    nElectron  luminosityBlock  nMuon   Electron_phi     M ⋯\n",
       "     │ SubArray{Float3  UInt32     UInt32           UInt32  SubArray{Float3  F ⋯\n",
       "─────┼──────────────────────────────────────────────────────────────────────────\n",
       " 1   │ []               0          156              3       []               - ⋯\n",
       " 2   │ [0.00544,        4          156              0       [0.134, -1       2 ⋯\n",
       " 3   │ [-0.00609,       2          156              0       [2.18, 1.6       - ⋯\n",
       " 4   │ [-0.00123]       1          156              7       [-0.643]         - ⋯\n",
       " 5   │ [0.0117, 0       4          156              0       [1.01, -1.       1 ⋯\n",
       " 6   │ [-0.00183]       1          156              2       [-0.497]         - ⋯\n",
       " 7   │ [-0.00183]       1          156              1       [-1.47]          - ⋯\n",
       " 8   │ [-0.00216]       1          156              0       [-0.633]         - ⋯\n",
       " 9   │ [-0.0128,        4          156              0       [2.79, -2.       - ⋯\n",
       " 10  │ []               0          156              0       []               - ⋯\n",
       " 11  │ [-0.00119,       2          156              1       [2.28, -2.       0 ⋯\n",
       " 12  │ [0.00608,        3          156              2       [-1.31, -1       2 ⋯\n",
       " 13  │ [-0.00765,       4          156              0       [2.52, -3.       - ⋯\n",
       " 14  │ []               0          156              2       []               - ⋯\n",
       " 15  │ []               0          156              0       []               - ⋯\n",
       "  ⋮  │        ⋮             ⋮             ⋮           ⋮            ⋮           ⋱\n",
       "                                              27 columns and 299958 rows omitted\n"
      ]
     },
     "execution_count": 8,
     "metadata": {},
     "output_type": "execute_result"
    }
   ],
   "source": [
    "events"
   ]
  },
  {
   "cell_type": "code",
   "execution_count": 9,
   "id": "fb884eca-7df3-446d-99e8-78845173209a",
   "metadata": {},
   "outputs": [
    {
     "data": {
      "text/plain": [
       "299973-element LazyBranch{SubArray{Float32, 1, Vector{Float32}, Tuple{UnitRange{Int64}}, true}, UnROOT.Nooffsetjagg, ArraysOfArrays.VectorOfVectors{Float32, Vector{Float32}, Vector{Int32}, Vector{Tuple{}}}}: \n",
       " Float32[63.04387, 38.120346, 4.0486875]\n",
       " Float32[]\n",
       " Float32[]\n",
       " Float32[54.33275, 23.515282, 52.871075, 4.328589, 5.3477535, 8.393386, 3.4901235]\n",
       " Float32[]\n",
       " Float32[38.503757, 47.00221]\n",
       " Float32[4.453538]\n",
       " Float32[]\n",
       " Float32[]\n",
       " Float32[]\n",
       " ⋮\n",
       " Float32[37.18836, 50.064648]\n",
       " Float32[43.15527, 23.953928]\n",
       " Float32[24.249857, 79.544136]\n",
       " Float32[]\n",
       " Float32[9.8097515, 25.515368]\n",
       " Float32[32.55726, 43.079132]\n",
       " Float32[4.3161483, 4.3587666, 5.632667, 4.7507796]\n",
       " Float32[]\n",
       " Float32[]"
      ]
     },
     "execution_count": 9,
     "metadata": {},
     "output_type": "execute_result"
    }
   ],
   "source": [
    "events.Muon_pt"
   ]
  },
  {
   "cell_type": "code",
   "execution_count": 10,
   "id": "c536679c-91f8-4837-8ea0-94171a4a23e0",
   "metadata": {},
   "outputs": [
    {
     "data": {
      "text/plain": [
       "juliacall.VectorValue"
      ]
     },
     "execution_count": 10,
     "metadata": {},
     "output_type": "execute_result"
    }
   ],
   "source": [
    "type(events)"
   ]
  },
  {
   "cell_type": "code",
   "execution_count": 11,
   "id": "77648128-3a68-4af5-b28e-908e69672858",
   "metadata": {},
   "outputs": [],
   "source": [
    "muons_pt = events.Muon_pt\n",
    "muons_eta = events.Muon_eta\n",
    "muon_phi = events.Muon_phi\n",
    "muons_mass = events.Muon_mass\n",
    "muons_charge = events.Muon_charge\n",
    "muons_isolation = events.Muon_pfRelIso03_all"
   ]
  },
  {
   "cell_type": "code",
   "execution_count": 12,
   "id": "7ec05635-280d-4bf9-8c94-8dea009194b9",
   "metadata": {},
   "outputs": [
    {
     "data": {
      "text/plain": [
       "juliacall.VectorValue"
      ]
     },
     "execution_count": 12,
     "metadata": {},
     "output_type": "execute_result"
    }
   ],
   "source": [
    "type(muons_pt)"
   ]
  },
  {
   "cell_type": "code",
   "execution_count": 13,
   "id": "b4c2b287-04f2-454f-bfff-4652888c06be",
   "metadata": {},
   "outputs": [],
   "source": [
    "import awkward as ak"
   ]
  },
  {
   "cell_type": "code",
   "execution_count": 14,
   "id": "0171d68d-e09a-4ea3-b715-f2036d72053f",
   "metadata": {},
   "outputs": [],
   "source": [
    "jl.seval(\"using AwkwardArray\")"
   ]
  },
  {
   "cell_type": "markdown",
   "id": "055398cb-1782-4829-bded-5fafc7b3d25e",
   "metadata": {},
   "source": [
    "## Writing Julia Functions"
   ]
  },
  {
   "cell_type": "code",
   "execution_count": 15,
   "id": "1937d41b-f819-495c-b2d7-01bd41e42771",
   "metadata": {},
   "outputs": [
    {
     "data": {
      "text/plain": [
       "my_fun (generic function with 1 method)"
      ]
     },
     "execution_count": 15,
     "metadata": {},
     "output_type": "execute_result"
    }
   ],
   "source": [
    "jl.seval(\"\"\"\n",
    "function my_fun(x,y)\n",
    "    return 2x.+y\n",
    "end\n",
    "\"\"\")"
   ]
  },
  {
   "cell_type": "code",
   "execution_count": 16,
   "id": "7db7e642-a8d7-406e-b79b-24dc479fd60a",
   "metadata": {},
   "outputs": [
    {
     "data": {
      "text/plain": [
       "7"
      ]
     },
     "execution_count": 16,
     "metadata": {},
     "output_type": "execute_result"
    }
   ],
   "source": [
    "jl.my_fun(2,3)"
   ]
  },
  {
   "cell_type": "markdown",
   "id": "1251961b-5e46-4bba-9678-44fcbe87ce52",
   "metadata": {},
   "source": [
    "## Introducing AwkwardArrays"
   ]
  },
  {
   "cell_type": "markdown",
   "id": "85363eea-3c76-41c5-b5b0-b876b406520b",
   "metadata": {},
   "source": [
    "Let's write a function to convert the UnROOT's LazyBranches into an AwkwardArray in Julia and return the AwkwardArray to Python.\n",
    "\n",
    "*Note:* Jerry Ling is planning to provide this feature in UnROOT."
   ]
  },
  {
   "cell_type": "code",
   "execution_count": 17,
   "id": "0cd03895-73a7-4067-804b-54b250dd6fb1",
   "metadata": {},
   "outputs": [
    {
     "data": {
      "text/plain": [
       "make_julia_record_array (generic function with 1 method)"
      ]
     },
     "execution_count": 17,
     "metadata": {},
     "output_type": "execute_result"
    }
   ],
   "source": [
    "jl.seval(\"\"\"\n",
    "using AwkwardArray\n",
    "\n",
    "function make_julia_record_array(events)\n",
    "    array = AwkwardArray.RecordArray(\n",
    "        NamedTuple{(:pt, :eta, :phi, :mass, :charge, :isolation)}((\n",
    "            AwkwardArray.from_iter(events.Muon_pt),\n",
    "            AwkwardArray.from_iter(events.Muon_eta), \n",
    "            AwkwardArray.from_iter(events.Muon_phi), \n",
    "            AwkwardArray.from_iter(events.Muon_mass), \n",
    "            AwkwardArray.from_iter(events.Muon_charge), \n",
    "            AwkwardArray.from_iter(events.Muon_pfRelIso03_all),\n",
    "        )\n",
    "    ))\n",
    "    return array\n",
    "end\n",
    "\"\"\")"
   ]
  },
  {
   "cell_type": "code",
   "execution_count": 18,
   "id": "9f7d0cd9-c0dc-47a8-8c6f-79ff9ff07fb4",
   "metadata": {},
   "outputs": [
    {
     "data": {
      "text/plain": [
       "make_record_array (generic function with 1 method)"
      ]
     },
     "execution_count": 18,
     "metadata": {},
     "output_type": "execute_result"
    }
   ],
   "source": [
    "jl.seval(\"\"\"\n",
    "using AwkwardArray\n",
    "\n",
    "function make_record_array(events)\n",
    "    array = AwkwardArray.RecordArray(\n",
    "        NamedTuple{(:pt, :eta, :phi, :mass, :charge, :isolation)}((\n",
    "            AwkwardArray.from_iter(events.Muon_pt),\n",
    "            AwkwardArray.from_iter(events.Muon_eta), \n",
    "            AwkwardArray.from_iter(events.Muon_phi), \n",
    "            AwkwardArray.from_iter(events.Muon_mass), \n",
    "            AwkwardArray.from_iter(events.Muon_charge), \n",
    "            AwkwardArray.from_iter(events.Muon_pfRelIso03_all),\n",
    "        )\n",
    "    ))\n",
    "    return AwkwardArray.convert(array)\n",
    "end\n",
    "\"\"\")"
   ]
  },
  {
   "cell_type": "code",
   "execution_count": 19,
   "id": "bbd42166-0aa6-46ed-a832-26869c943e46",
   "metadata": {},
   "outputs": [
    {
     "name": "stdout",
     "output_type": "stream",
     "text": [
      "CPU times: user 1.51 s, sys: 34.7 ms, total: 1.55 s\n",
      "Wall time: 1.54 s\n"
     ]
    }
   ],
   "source": [
    "%%time\n",
    "muons = jl.make_record_array(events)"
   ]
  },
  {
   "cell_type": "code",
   "execution_count": 20,
   "id": "6e83cd8f-8132-4835-ae82-587a169aac4b",
   "metadata": {},
   "outputs": [
    {
     "name": "stdout",
     "output_type": "stream",
     "text": [
      "CPU times: user 343 ms, sys: 20.2 ms, total: 363 ms\n",
      "Wall time: 361 ms\n"
     ]
    }
   ],
   "source": [
    "%%time\n",
    "muons = jl.make_record_array(events)"
   ]
  },
  {
   "cell_type": "code",
   "execution_count": 21,
   "id": "7b751158-14e5-4aff-8dac-5bdd12ec605b",
   "metadata": {},
   "outputs": [
    {
     "data": {
      "text/plain": [
       "awkward.highlevel.Array"
      ]
     },
     "execution_count": 21,
     "metadata": {},
     "output_type": "execute_result"
    }
   ],
   "source": [
    "type(muons)"
   ]
  },
  {
   "cell_type": "code",
   "execution_count": 22,
   "id": "c221a3fb-99f6-4b60-9f94-8adce48106aa",
   "metadata": {},
   "outputs": [
    {
     "data": {
      "text/html": [
       "<pre>[{pt: [63, 38.1, 4.05], eta: [-0.719, ..., -0.321], phi: [...], mass: ..., ...},\n",
       " {pt: [], eta: [], phi: [], mass: [], charge: [], isolation: []},\n",
       " {pt: [], eta: [], phi: [], mass: [], charge: [], isolation: []},\n",
       " {pt: [54.3, 23.5, ..., 8.39, 3.49], eta: [-1.06, ...], phi: [...], ...},\n",
       " {pt: [], eta: [], phi: [], mass: [], charge: [], isolation: []},\n",
       " {pt: [38.5, 47], eta: [0.315, -0.119], phi: [2.05, ...], mass: [...], ...},\n",
       " {pt: [4.45], eta: [-0.986], phi: [1.12], mass: [0.106], charge: [1], ...},\n",
       " {pt: [], eta: [], phi: [], mass: [], charge: [], isolation: []},\n",
       " {pt: [], eta: [], phi: [], mass: [], charge: [], isolation: []},\n",
       " {pt: [], eta: [], phi: [], mass: [], charge: [], isolation: []},\n",
       " ...,\n",
       " {pt: [37.2, 50.1], eta: [1.1, 0.412], phi: [-0.875, ...], mass: [...], ...},\n",
       " {pt: [43.2, 24], eta: [2.15, 0.421], phi: [-1.3, ...], mass: [...], ...},\n",
       " {pt: [24.2, 79.5], eta: [0.327, 0.79], phi: [-0.997, ...], mass: [...], ...},\n",
       " {pt: [], eta: [], phi: [], mass: [], charge: [], isolation: []},\n",
       " {pt: [9.81, 25.5], eta: [2.07, 1.04], phi: [1.66, ...], mass: [...], ...},\n",
       " {pt: [32.6, 43.1], eta: [1.11, -0.162], phi: [-0.981, ...], mass: [...], ...},\n",
       " {pt: [4.32, 4.36, 5.63, 4.75], eta: [-2.09, ...], phi: [...], mass: ..., ...},\n",
       " {pt: [], eta: [], phi: [], mass: [], charge: [], isolation: []},\n",
       " {pt: [], eta: [], phi: [], mass: [], charge: [], isolation: []}]\n",
       "--------------------------------------------------------------------------------\n",
       "type: 299973 * {\n",
       "    pt: var * float32,\n",
       "    eta: var * float32,\n",
       "    phi: var * float32,\n",
       "    mass: var * float32,\n",
       "    charge: var * int32,\n",
       "    isolation: var * float32\n",
       "}</pre>"
      ],
      "text/plain": [
       "<Array [{pt: [63, ...], eta: [...], ...}, ...] type='299973 * {pt: var * fl...'>"
      ]
     },
     "execution_count": 22,
     "metadata": {},
     "output_type": "execute_result"
    }
   ],
   "source": [
    "muons"
   ]
  },
  {
   "cell_type": "code",
   "execution_count": 23,
   "id": "d2a9113e-ce44-4be9-bc2c-6835dfe34571",
   "metadata": {},
   "outputs": [
    {
     "data": {
      "text/html": [
       "<pre>[[63, 38.1, 4.05],\n",
       " [],\n",
       " [],\n",
       " [54.3, 23.5, 52.9, 4.33, 5.35, 8.39, 3.49],\n",
       " [],\n",
       " [38.5, 47],\n",
       " [4.45],\n",
       " [],\n",
       " [],\n",
       " [],\n",
       " ...,\n",
       " [37.2, 50.1],\n",
       " [43.2, 24],\n",
       " [24.2, 79.5],\n",
       " [],\n",
       " [9.81, 25.5],\n",
       " [32.6, 43.1],\n",
       " [4.32, 4.36, 5.63, 4.75],\n",
       " [],\n",
       " []]\n",
       "--------------------------------------------\n",
       "type: 299973 * var * float32</pre>"
      ],
      "text/plain": [
       "<Array [[63, 38.1, 4.05], [], [], ..., [], []] type='299973 * var * float32'>"
      ]
     },
     "execution_count": 23,
     "metadata": {},
     "output_type": "execute_result"
    }
   ],
   "source": [
    "muons.pt"
   ]
  },
  {
   "cell_type": "code",
   "execution_count": 24,
   "id": "ef106dd6-bb5a-4ab6-8408-9b6d6c09306c",
   "metadata": {},
   "outputs": [
    {
     "ename": "KeyboardInterrupt",
     "evalue": "",
     "output_type": "error",
     "traceback": [
      "\u001b[0;31m---------------------------------------------------------------------------\u001b[0m",
      "\u001b[0;31mKeyboardInterrupt\u001b[0m                         Traceback (most recent call last)",
      "File \u001b[0;32m<timed exec>:1\u001b[0m\n",
      "File \u001b[0;32m~/anaconda3/envs/py311-julia19/lib/python3.11/site-packages/awkward/_dispatch.py:64\u001b[0m, in \u001b[0;36mnamed_high_level_function.<locals>.dispatch\u001b[0;34m(*args, **kwargs)\u001b[0m\n\u001b[1;32m     62\u001b[0m \u001b[38;5;66;03m# Failed to find a custom overload, so resume the original function\u001b[39;00m\n\u001b[1;32m     63\u001b[0m \u001b[38;5;28;01mtry\u001b[39;00m:\n\u001b[0;32m---> 64\u001b[0m     \u001b[38;5;28mnext\u001b[39m(gen_or_result)\n\u001b[1;32m     65\u001b[0m \u001b[38;5;28;01mexcept\u001b[39;00m \u001b[38;5;167;01mStopIteration\u001b[39;00m \u001b[38;5;28;01mas\u001b[39;00m err:\n\u001b[1;32m     66\u001b[0m     \u001b[38;5;28;01mreturn\u001b[39;00m err\u001b[38;5;241m.\u001b[39mvalue\n",
      "File \u001b[0;32m~/anaconda3/envs/py311-julia19/lib/python3.11/site-packages/awkward/operations/ak_zip.py:151\u001b[0m, in \u001b[0;36mzip\u001b[0;34m(arrays, depth_limit, parameters, with_name, right_broadcast, optiontype_outside_record, highlevel, behavior, attrs)\u001b[0m\n\u001b[1;32m    148\u001b[0m     \u001b[38;5;28;01myield\u001b[39;00m arrays\n\u001b[1;32m    150\u001b[0m \u001b[38;5;66;03m# Implementation\u001b[39;00m\n\u001b[0;32m--> 151\u001b[0m \u001b[38;5;28;01mreturn\u001b[39;00m \u001b[43m_impl\u001b[49m\u001b[43m(\u001b[49m\n\u001b[1;32m    152\u001b[0m \u001b[43m    \u001b[49m\u001b[43marrays\u001b[49m\u001b[43m,\u001b[49m\n\u001b[1;32m    153\u001b[0m \u001b[43m    \u001b[49m\u001b[43mdepth_limit\u001b[49m\u001b[43m,\u001b[49m\n\u001b[1;32m    154\u001b[0m \u001b[43m    \u001b[49m\u001b[43mparameters\u001b[49m\u001b[43m,\u001b[49m\n\u001b[1;32m    155\u001b[0m \u001b[43m    \u001b[49m\u001b[43mwith_name\u001b[49m\u001b[43m,\u001b[49m\n\u001b[1;32m    156\u001b[0m \u001b[43m    \u001b[49m\u001b[43mright_broadcast\u001b[49m\u001b[43m,\u001b[49m\n\u001b[1;32m    157\u001b[0m \u001b[43m    \u001b[49m\u001b[43moptiontype_outside_record\u001b[49m\u001b[43m,\u001b[49m\n\u001b[1;32m    158\u001b[0m \u001b[43m    \u001b[49m\u001b[43mhighlevel\u001b[49m\u001b[43m,\u001b[49m\n\u001b[1;32m    159\u001b[0m \u001b[43m    \u001b[49m\u001b[43mbehavior\u001b[49m\u001b[43m,\u001b[49m\n\u001b[1;32m    160\u001b[0m \u001b[43m    \u001b[49m\u001b[43mattrs\u001b[49m\u001b[43m,\u001b[49m\n\u001b[1;32m    161\u001b[0m \u001b[43m\u001b[49m\u001b[43m)\u001b[49m\n",
      "File \u001b[0;32m~/anaconda3/envs/py311-julia19/lib/python3.11/site-packages/awkward/operations/ak_zip.py:179\u001b[0m, in \u001b[0;36m_impl\u001b[0;34m(arrays, depth_limit, parameters, with_name, right_broadcast, optiontype_outside_record, highlevel, behavior, attrs)\u001b[0m\n\u001b[1;32m    177\u001b[0m \u001b[38;5;28;01mwith\u001b[39;00m HighLevelContext(behavior\u001b[38;5;241m=\u001b[39mbehavior, attrs\u001b[38;5;241m=\u001b[39mattrs) \u001b[38;5;28;01mas\u001b[39;00m ctx:\n\u001b[1;32m    178\u001b[0m     \u001b[38;5;28;01mif\u001b[39;00m \u001b[38;5;28misinstance\u001b[39m(arrays, Mapping):\n\u001b[0;32m--> 179\u001b[0m         layouts \u001b[38;5;241m=\u001b[39m \u001b[43mensure_same_backend\u001b[49m\u001b[43m(\u001b[49m\n\u001b[1;32m    180\u001b[0m \u001b[43m            \u001b[49m\u001b[38;5;241;43m*\u001b[39;49m\u001b[43m(\u001b[49m\n\u001b[1;32m    181\u001b[0m \u001b[43m                \u001b[49m\u001b[43mctx\u001b[49m\u001b[38;5;241;43m.\u001b[39;49m\u001b[43munwrap\u001b[49m\u001b[43m(\u001b[49m\n\u001b[1;32m    182\u001b[0m \u001b[43m                    \u001b[49m\u001b[43mx\u001b[49m\u001b[43m,\u001b[49m\n\u001b[1;32m    183\u001b[0m \u001b[43m                    \u001b[49m\u001b[43mallow_record\u001b[49m\u001b[38;5;241;43m=\u001b[39;49m\u001b[38;5;28;43;01mFalse\u001b[39;49;00m\u001b[43m,\u001b[49m\n\u001b[1;32m    184\u001b[0m \u001b[43m                    \u001b[49m\u001b[43mallow_unknown\u001b[49m\u001b[38;5;241;43m=\u001b[39;49m\u001b[38;5;28;43;01mFalse\u001b[39;49;00m\u001b[43m,\u001b[49m\n\u001b[1;32m    185\u001b[0m \u001b[43m                    \u001b[49m\u001b[43mnone_policy\u001b[49m\u001b[38;5;241;43m=\u001b[39;49m\u001b[38;5;124;43m\"\u001b[39;49m\u001b[38;5;124;43mpass-through\u001b[39;49m\u001b[38;5;124;43m\"\u001b[39;49m\u001b[43m,\u001b[49m\n\u001b[1;32m    186\u001b[0m \u001b[43m                    \u001b[49m\u001b[43mprimitive_policy\u001b[49m\u001b[38;5;241;43m=\u001b[39;49m\u001b[38;5;124;43m\"\u001b[39;49m\u001b[38;5;124;43mpass-through\u001b[39;49m\u001b[38;5;124;43m\"\u001b[39;49m\u001b[43m,\u001b[49m\n\u001b[1;32m    187\u001b[0m \u001b[43m                \u001b[49m\u001b[43m)\u001b[49m\n\u001b[1;32m    188\u001b[0m \u001b[43m                \u001b[49m\u001b[38;5;28;43;01mfor\u001b[39;49;00m\u001b[43m \u001b[49m\u001b[43mx\u001b[49m\u001b[43m \u001b[49m\u001b[38;5;129;43;01min\u001b[39;49;00m\u001b[43m \u001b[49m\u001b[43marrays\u001b[49m\u001b[38;5;241;43m.\u001b[39;49m\u001b[43mvalues\u001b[49m\u001b[43m(\u001b[49m\u001b[43m)\u001b[49m\n\u001b[1;32m    189\u001b[0m \u001b[43m            \u001b[49m\u001b[43m)\u001b[49m\n\u001b[1;32m    190\u001b[0m \u001b[43m        \u001b[49m\u001b[43m)\u001b[49m\n\u001b[1;32m    191\u001b[0m         fields \u001b[38;5;241m=\u001b[39m \u001b[38;5;28mlist\u001b[39m(arrays\u001b[38;5;241m.\u001b[39mkeys())\n\u001b[1;32m    193\u001b[0m     \u001b[38;5;28;01melse\u001b[39;00m:\n",
      "File \u001b[0;32m~/anaconda3/envs/py311-julia19/lib/python3.11/site-packages/awkward/operations/ak_zip.py:181\u001b[0m, in \u001b[0;36m<genexpr>\u001b[0;34m(.0)\u001b[0m\n\u001b[1;32m    177\u001b[0m \u001b[38;5;28;01mwith\u001b[39;00m HighLevelContext(behavior\u001b[38;5;241m=\u001b[39mbehavior, attrs\u001b[38;5;241m=\u001b[39mattrs) \u001b[38;5;28;01mas\u001b[39;00m ctx:\n\u001b[1;32m    178\u001b[0m     \u001b[38;5;28;01mif\u001b[39;00m \u001b[38;5;28misinstance\u001b[39m(arrays, Mapping):\n\u001b[1;32m    179\u001b[0m         layouts \u001b[38;5;241m=\u001b[39m ensure_same_backend(\n\u001b[1;32m    180\u001b[0m             \u001b[38;5;241m*\u001b[39m(\n\u001b[0;32m--> 181\u001b[0m                 \u001b[43mctx\u001b[49m\u001b[38;5;241;43m.\u001b[39;49m\u001b[43munwrap\u001b[49m\u001b[43m(\u001b[49m\n\u001b[1;32m    182\u001b[0m \u001b[43m                    \u001b[49m\u001b[43mx\u001b[49m\u001b[43m,\u001b[49m\n\u001b[1;32m    183\u001b[0m \u001b[43m                    \u001b[49m\u001b[43mallow_record\u001b[49m\u001b[38;5;241;43m=\u001b[39;49m\u001b[38;5;28;43;01mFalse\u001b[39;49;00m\u001b[43m,\u001b[49m\n\u001b[1;32m    184\u001b[0m \u001b[43m                    \u001b[49m\u001b[43mallow_unknown\u001b[49m\u001b[38;5;241;43m=\u001b[39;49m\u001b[38;5;28;43;01mFalse\u001b[39;49;00m\u001b[43m,\u001b[49m\n\u001b[1;32m    185\u001b[0m \u001b[43m                    \u001b[49m\u001b[43mnone_policy\u001b[49m\u001b[38;5;241;43m=\u001b[39;49m\u001b[38;5;124;43m\"\u001b[39;49m\u001b[38;5;124;43mpass-through\u001b[39;49m\u001b[38;5;124;43m\"\u001b[39;49m\u001b[43m,\u001b[49m\n\u001b[1;32m    186\u001b[0m \u001b[43m                    \u001b[49m\u001b[43mprimitive_policy\u001b[49m\u001b[38;5;241;43m=\u001b[39;49m\u001b[38;5;124;43m\"\u001b[39;49m\u001b[38;5;124;43mpass-through\u001b[39;49m\u001b[38;5;124;43m\"\u001b[39;49m\u001b[43m,\u001b[49m\n\u001b[1;32m    187\u001b[0m \u001b[43m                \u001b[49m\u001b[43m)\u001b[49m\n\u001b[1;32m    188\u001b[0m                 \u001b[38;5;28;01mfor\u001b[39;00m x \u001b[38;5;129;01min\u001b[39;00m arrays\u001b[38;5;241m.\u001b[39mvalues()\n\u001b[1;32m    189\u001b[0m             )\n\u001b[1;32m    190\u001b[0m         )\n\u001b[1;32m    191\u001b[0m         fields \u001b[38;5;241m=\u001b[39m \u001b[38;5;28mlist\u001b[39m(arrays\u001b[38;5;241m.\u001b[39mkeys())\n\u001b[1;32m    193\u001b[0m     \u001b[38;5;28;01melse\u001b[39;00m:\n",
      "File \u001b[0;32m~/anaconda3/envs/py311-julia19/lib/python3.11/site-packages/awkward/_layout.py:145\u001b[0m, in \u001b[0;36mHighLevelContext.unwrap\u001b[0;34m(self, obj, allow_record, allow_unknown, none_policy, primitive_policy, string_policy, use_from_iter, regulararray)\u001b[0m\n\u001b[1;32m    141\u001b[0m \u001b[38;5;28;01mfrom\u001b[39;00m \u001b[38;5;21;01mawkward\u001b[39;00m\u001b[38;5;21;01m.\u001b[39;00m\u001b[38;5;21;01moperations\u001b[39;00m\u001b[38;5;21;01m.\u001b[39;00m\u001b[38;5;21;01mak_to_layout\u001b[39;00m \u001b[38;5;28;01mimport\u001b[39;00m _impl \u001b[38;5;28;01mas\u001b[39;00m to_layout_impl\n\u001b[1;32m    143\u001b[0m \u001b[38;5;28mself\u001b[39m\u001b[38;5;241m.\u001b[39mupdate(obj)\n\u001b[0;32m--> 145\u001b[0m \u001b[38;5;28;01mreturn\u001b[39;00m \u001b[43mto_layout_impl\u001b[49m\u001b[43m(\u001b[49m\n\u001b[1;32m    146\u001b[0m \u001b[43m    \u001b[49m\u001b[43mobj\u001b[49m\u001b[43m,\u001b[49m\n\u001b[1;32m    147\u001b[0m \u001b[43m    \u001b[49m\u001b[43mallow_record\u001b[49m\u001b[38;5;241;43m=\u001b[39;49m\u001b[43mallow_record\u001b[49m\u001b[43m,\u001b[49m\n\u001b[1;32m    148\u001b[0m \u001b[43m    \u001b[49m\u001b[43mallow_unknown\u001b[49m\u001b[38;5;241;43m=\u001b[39;49m\u001b[43mallow_unknown\u001b[49m\u001b[43m,\u001b[49m\n\u001b[1;32m    149\u001b[0m \u001b[43m    \u001b[49m\u001b[43mnone_policy\u001b[49m\u001b[38;5;241;43m=\u001b[39;49m\u001b[43mnone_policy\u001b[49m\u001b[43m,\u001b[49m\n\u001b[1;32m    150\u001b[0m \u001b[43m    \u001b[49m\u001b[43muse_from_iter\u001b[49m\u001b[38;5;241;43m=\u001b[39;49m\u001b[43muse_from_iter\u001b[49m\u001b[43m,\u001b[49m\n\u001b[1;32m    151\u001b[0m \u001b[43m    \u001b[49m\u001b[43mprimitive_policy\u001b[49m\u001b[38;5;241;43m=\u001b[39;49m\u001b[43mprimitive_policy\u001b[49m\u001b[43m,\u001b[49m\n\u001b[1;32m    152\u001b[0m \u001b[43m    \u001b[49m\u001b[43mstring_policy\u001b[49m\u001b[38;5;241;43m=\u001b[39;49m\u001b[43mstring_policy\u001b[49m\u001b[43m,\u001b[49m\n\u001b[1;32m    153\u001b[0m \u001b[43m    \u001b[49m\u001b[43mregulararray\u001b[49m\u001b[38;5;241;43m=\u001b[39;49m\u001b[43mregulararray\u001b[49m\u001b[43m,\u001b[49m\n\u001b[1;32m    154\u001b[0m \u001b[43m\u001b[49m\u001b[43m)\u001b[49m\n",
      "File \u001b[0;32m~/anaconda3/envs/py311-julia19/lib/python3.11/site-packages/awkward/operations/ak_to_layout.py:263\u001b[0m, in \u001b[0;36m_impl\u001b[0;34m(obj, allow_record, allow_unknown, none_policy, regulararray, use_from_iter, primitive_policy, string_policy)\u001b[0m\n\u001b[1;32m    261\u001b[0m \u001b[38;5;28;01melif\u001b[39;00m \u001b[38;5;28misinstance\u001b[39m(obj, Iterable):\n\u001b[1;32m    262\u001b[0m     \u001b[38;5;28;01mif\u001b[39;00m use_from_iter:\n\u001b[0;32m--> 263\u001b[0m         \u001b[38;5;28;01mreturn\u001b[39;00m \u001b[43mak\u001b[49m\u001b[38;5;241;43m.\u001b[39;49m\u001b[43moperations\u001b[49m\u001b[38;5;241;43m.\u001b[39;49m\u001b[43mfrom_iter\u001b[49m\u001b[43m(\u001b[49m\n\u001b[1;32m    264\u001b[0m \u001b[43m            \u001b[49m\u001b[43mobj\u001b[49m\u001b[43m,\u001b[49m\u001b[43m \u001b[49m\u001b[43mhighlevel\u001b[49m\u001b[38;5;241;43m=\u001b[39;49m\u001b[38;5;28;43;01mFalse\u001b[39;49;00m\u001b[43m,\u001b[49m\u001b[43m \u001b[49m\u001b[43mallow_record\u001b[49m\u001b[38;5;241;43m=\u001b[39;49m\u001b[43mallow_record\u001b[49m\n\u001b[1;32m    265\u001b[0m \u001b[43m        \u001b[49m\u001b[43m)\u001b[49m\n\u001b[1;32m    266\u001b[0m     \u001b[38;5;28;01melse\u001b[39;00m:\n\u001b[1;32m    267\u001b[0m         \u001b[38;5;28;01mraise\u001b[39;00m \u001b[38;5;167;01mTypeError\u001b[39;00m(\n\u001b[1;32m    268\u001b[0m             \u001b[38;5;124m\"\u001b[39m\u001b[38;5;124mEncountered an iterable object, but coercing iterables is disabled\u001b[39m\u001b[38;5;124m\"\u001b[39m\n\u001b[1;32m    269\u001b[0m         )\n",
      "File \u001b[0;32m~/anaconda3/envs/py311-julia19/lib/python3.11/site-packages/awkward/_dispatch.py:39\u001b[0m, in \u001b[0;36mnamed_high_level_function.<locals>.dispatch\u001b[0;34m(*args, **kwargs)\u001b[0m\n\u001b[1;32m     35\u001b[0m \u001b[38;5;129m@wraps\u001b[39m(func)\n\u001b[1;32m     36\u001b[0m \u001b[38;5;28;01mdef\u001b[39;00m \u001b[38;5;21mdispatch\u001b[39m(\u001b[38;5;241m*\u001b[39margs, \u001b[38;5;241m*\u001b[39m\u001b[38;5;241m*\u001b[39mkwargs):\n\u001b[1;32m     37\u001b[0m     \u001b[38;5;66;03m# NOTE: this decorator assumes that the operation is exposed under `ak.`\u001b[39;00m\n\u001b[1;32m     38\u001b[0m     \u001b[38;5;28;01mwith\u001b[39;00m OperationErrorContext(name, args, kwargs):\n\u001b[0;32m---> 39\u001b[0m         gen_or_result \u001b[38;5;241m=\u001b[39m \u001b[43mfunc\u001b[49m\u001b[43m(\u001b[49m\u001b[38;5;241;43m*\u001b[39;49m\u001b[43margs\u001b[49m\u001b[43m,\u001b[49m\u001b[43m \u001b[49m\u001b[38;5;241;43m*\u001b[39;49m\u001b[38;5;241;43m*\u001b[39;49m\u001b[43mkwargs\u001b[49m\u001b[43m)\u001b[49m\n\u001b[1;32m     40\u001b[0m         \u001b[38;5;28;01mif\u001b[39;00m isgenerator(gen_or_result):\n\u001b[1;32m     41\u001b[0m             array_likes \u001b[38;5;241m=\u001b[39m \u001b[38;5;28mnext\u001b[39m(gen_or_result)\n",
      "File \u001b[0;32m~/anaconda3/envs/py311-julia19/lib/python3.11/site-packages/awkward/operations/ak_from_iter.py:70\u001b[0m, in \u001b[0;36mfrom_iter\u001b[0;34m(iterable, allow_record, highlevel, behavior, attrs, initial, resize)\u001b[0m\n\u001b[1;32m     18\u001b[0m \u001b[38;5;129m@high_level_function\u001b[39m()\n\u001b[1;32m     19\u001b[0m \u001b[38;5;28;01mdef\u001b[39;00m \u001b[38;5;21mfrom_iter\u001b[39m(\n\u001b[1;32m     20\u001b[0m     iterable,\n\u001b[0;32m   (...)\u001b[0m\n\u001b[1;32m     27\u001b[0m     resize\u001b[38;5;241m=\u001b[39m\u001b[38;5;241m8\u001b[39m,\n\u001b[1;32m     28\u001b[0m ):\n\u001b[1;32m     29\u001b[0m \u001b[38;5;250m    \u001b[39m\u001b[38;5;124;03m\"\"\"\u001b[39;00m\n\u001b[1;32m     30\u001b[0m \u001b[38;5;124;03m    Args:\u001b[39;00m\n\u001b[1;32m     31\u001b[0m \u001b[38;5;124;03m        iterable (Python iterable): Data to convert into an Awkward Array.\u001b[39;00m\n\u001b[0;32m   (...)\u001b[0m\n\u001b[1;32m     68\u001b[0m \u001b[38;5;124;03m    See also #ak.to_list.\u001b[39;00m\n\u001b[1;32m     69\u001b[0m \u001b[38;5;124;03m    \"\"\"\u001b[39;00m\n\u001b[0;32m---> 70\u001b[0m     \u001b[38;5;28;01mreturn\u001b[39;00m \u001b[43m_impl\u001b[49m\u001b[43m(\u001b[49m\u001b[43miterable\u001b[49m\u001b[43m,\u001b[49m\u001b[43m \u001b[49m\u001b[43mhighlevel\u001b[49m\u001b[43m,\u001b[49m\u001b[43m \u001b[49m\u001b[43mbehavior\u001b[49m\u001b[43m,\u001b[49m\u001b[43m \u001b[49m\u001b[43mallow_record\u001b[49m\u001b[43m,\u001b[49m\u001b[43m \u001b[49m\u001b[43minitial\u001b[49m\u001b[43m,\u001b[49m\u001b[43m \u001b[49m\u001b[43mresize\u001b[49m\u001b[43m,\u001b[49m\u001b[43m \u001b[49m\u001b[43mattrs\u001b[49m\u001b[43m)\u001b[49m\n",
      "File \u001b[0;32m~/anaconda3/envs/py311-julia19/lib/python3.11/site-packages/awkward/operations/ak_from_iter.py:100\u001b[0m, in \u001b[0;36m_impl\u001b[0;34m(iterable, highlevel, behavior, allow_record, initial, resize, attrs)\u001b[0m\n\u001b[1;32m     97\u001b[0m     iterable \u001b[38;5;241m=\u001b[39m \u001b[38;5;28mlist\u001b[39m(iterable)\n\u001b[1;32m     99\u001b[0m builder \u001b[38;5;241m=\u001b[39m _ext\u001b[38;5;241m.\u001b[39mArrayBuilder(initial\u001b[38;5;241m=\u001b[39minitial, resize\u001b[38;5;241m=\u001b[39mresize)\n\u001b[0;32m--> 100\u001b[0m \u001b[43mbuilder\u001b[49m\u001b[38;5;241;43m.\u001b[39;49m\u001b[43mfromiter\u001b[49m\u001b[43m(\u001b[49m\u001b[43miterable\u001b[49m\u001b[43m)\u001b[49m\n\u001b[1;32m    102\u001b[0m formstr, length, buffers \u001b[38;5;241m=\u001b[39m builder\u001b[38;5;241m.\u001b[39mto_buffers()\n\u001b[1;32m    103\u001b[0m form \u001b[38;5;241m=\u001b[39m ak\u001b[38;5;241m.\u001b[39mforms\u001b[38;5;241m.\u001b[39mfrom_json(formstr)\n",
      "File \u001b[0;32m~/.julia/packages/PythonCall/S5MOg/src/JlWrap/iter.jl:37\u001b[0m, in \u001b[0;36m__next__\u001b[0;34m(self)\u001b[0m\n\u001b[1;32m     35\u001b[0m         return self\n\u001b[1;32m     36\u001b[0m     def __next__(self):\n\u001b[0;32m---> 37\u001b[0m         return self._jl_callmethod($(pyjl_methodnum(pyjliter_next)))\n\u001b[1;32m     38\u001b[0m \"\"\", @__FILE__(), \"exec\"), jl.__dict__)\n\u001b[1;32m     39\u001b[0m pycopy!(pyjlitertype, jl.IteratorValue)\n",
      "\u001b[0;31mKeyboardInterrupt\u001b[0m: "
     ]
    }
   ],
   "source": [
    "%%time\n",
    "muons = ak.zip({\n",
    "                \"pt\": muons_pt,\n",
    "                \"eta\": events.Muon_eta,\n",
    "                \"phi\": events.Muon_phi,\n",
    "                \"mass\": events.Muon_mass,\n",
    "                \"charge\": events.Muon_charge,\n",
    "                \"isolation\": events.Muon_pfRelIso03_all,\n",
    "            },)"
   ]
  },
  {
   "cell_type": "code",
   "execution_count": 25,
   "id": "73d088b8-6357-4f13-86a0-5d1a5a7be27e",
   "metadata": {},
   "outputs": [
    {
     "data": {
      "text/html": [
       "<pre>[{pt: [63, 38.1, 4.05], eta: [-0.719, ..., -0.321], phi: [...], mass: ..., ...},\n",
       " {pt: [], eta: [], phi: [], mass: [], charge: [], isolation: []},\n",
       " {pt: [], eta: [], phi: [], mass: [], charge: [], isolation: []},\n",
       " {pt: [54.3, 23.5, ..., 8.39, 3.49], eta: [-1.06, ...], phi: [...], ...},\n",
       " {pt: [], eta: [], phi: [], mass: [], charge: [], isolation: []},\n",
       " {pt: [38.5, 47], eta: [0.315, -0.119], phi: [2.05, ...], mass: [...], ...},\n",
       " {pt: [4.45], eta: [-0.986], phi: [1.12], mass: [0.106], charge: [1], ...},\n",
       " {pt: [], eta: [], phi: [], mass: [], charge: [], isolation: []},\n",
       " {pt: [], eta: [], phi: [], mass: [], charge: [], isolation: []},\n",
       " {pt: [], eta: [], phi: [], mass: [], charge: [], isolation: []},\n",
       " ...,\n",
       " {pt: [37.2, 50.1], eta: [1.1, 0.412], phi: [-0.875, ...], mass: [...], ...},\n",
       " {pt: [43.2, 24], eta: [2.15, 0.421], phi: [-1.3, ...], mass: [...], ...},\n",
       " {pt: [24.2, 79.5], eta: [0.327, 0.79], phi: [-0.997, ...], mass: [...], ...},\n",
       " {pt: [], eta: [], phi: [], mass: [], charge: [], isolation: []},\n",
       " {pt: [9.81, 25.5], eta: [2.07, 1.04], phi: [1.66, ...], mass: [...], ...},\n",
       " {pt: [32.6, 43.1], eta: [1.11, -0.162], phi: [-0.981, ...], mass: [...], ...},\n",
       " {pt: [4.32, 4.36, 5.63, 4.75], eta: [-2.09, ...], phi: [...], mass: ..., ...},\n",
       " {pt: [], eta: [], phi: [], mass: [], charge: [], isolation: []},\n",
       " {pt: [], eta: [], phi: [], mass: [], charge: [], isolation: []}]\n",
       "--------------------------------------------------------------------------------\n",
       "type: 299973 * {\n",
       "    pt: var * float32,\n",
       "    eta: var * float32,\n",
       "    phi: var * float32,\n",
       "    mass: var * float32,\n",
       "    charge: var * int32,\n",
       "    isolation: var * float32\n",
       "}</pre>"
      ],
      "text/plain": [
       "<Array [{pt: [63, ...], eta: [...], ...}, ...] type='299973 * {pt: var * fl...'>"
      ]
     },
     "execution_count": 25,
     "metadata": {},
     "output_type": "execute_result"
    }
   ],
   "source": [
    "muons"
   ]
  },
  {
   "cell_type": "markdown",
   "id": "2caf6cdd-ff9f-4c54-b189-e9300d2ab471",
   "metadata": {},
   "source": [
    "## Data Analysis Example "
   ]
  },
  {
   "cell_type": "markdown",
   "id": "1788a5fd-59fa-46df-8bf9-e7974021dcd7",
   "metadata": {},
   "source": [
    "Thanks to Iason Krommydas' - see his talk for more details."
   ]
  },
  {
   "cell_type": "code",
   "execution_count": 26,
   "id": "a213b597-b256-429c-b4ad-711d48b779b6",
   "metadata": {},
   "outputs": [],
   "source": [
    "def find_4lep_kernel(events_leptons, builder):\n",
    "    \"\"\"Search for valid 4-lepton combinations from an array of events * leptons {charge, ...}\n",
    "\n",
    "    A valid candidate has two pairs of leptons that each have balanced charge\n",
    "    Outputs an array of events * candidates {indices 0..3} corresponding to all valid\n",
    "    permutations of all valid combinations of unique leptons in each event\n",
    "    (omitting permutations of the pairs)\n",
    "    \"\"\"\n",
    "    for leptons in events_leptons:\n",
    "        builder.begin_list()\n",
    "        nlep = len(leptons)\n",
    "        for i0 in range(nlep):\n",
    "            for i1 in range(i0 + 1, nlep):\n",
    "                if leptons[i0].charge + leptons[i1].charge != 0:\n",
    "                    continue\n",
    "                for i2 in range(nlep):\n",
    "                    for i3 in range(i2 + 1, nlep):\n",
    "                        if len({i0, i1, i2, i3}) < 4:\n",
    "                            continue\n",
    "                        if leptons[i2].charge + leptons[i3].charge != 0:\n",
    "                            continue\n",
    "                        builder.begin_tuple(4)\n",
    "                        builder.index(0).integer(i0)\n",
    "                        builder.index(1).integer(i1)\n",
    "                        builder.index(2).integer(i2)\n",
    "                        builder.index(3).integer(i3)\n",
    "                        builder.end_tuple()\n",
    "        builder.end_list()\n",
    "\n",
    "    return builder\n"
   ]
  },
  {
   "cell_type": "code",
   "execution_count": 27,
   "id": "d6a432b4-0245-40d8-b5a9-3c389d08e153",
   "metadata": {},
   "outputs": [],
   "source": [
    "def process(self, events):\n",
    "        dataset_axis = hist.axis.StrCategory(\n",
    "            [], growth=True, name=\"dataset\", label=\"Primary dataset\"\n",
    "        )\n",
    "        mass_axis = hist.axis.Regular(\n",
    "            300, 0, 300, name=\"mass\", label=r\"$m_{\\mu\\mu}$ [GeV]\"\n",
    "        )\n",
    "        pt_axis = hist.axis.Regular(300, 0, 300, name=\"pt\", label=r\"$p_{T,\\mu}$ [GeV]\")\n",
    "\n",
    "        h_nMuons = hda.Hist(\n",
    "            dataset_axis,\n",
    "            hda.hist.hist.axis.IntCategory(\n",
    "                range(6), name=\"nMuons\", label=\"Number of good muons\"\n",
    "            ),\n",
    "            storage=\"weight\",\n",
    "            label=\"Counts\",\n",
    "        )\n",
    "        h_m4mu = hda.hist.Hist(\n",
    "            dataset_axis, mass_axis, storage=\"weight\", label=\"Counts\"\n",
    "        )\n",
    "        h_mZ1 = hda.hist.Hist(dataset_axis, mass_axis, storage=\"weight\", label=\"Counts\")\n",
    "        h_mZ2 = hda.hist.Hist(dataset_axis, mass_axis, storage=\"weight\", label=\"Counts\")\n",
    "        h_ptZ1mu1 = hda.hist.Hist(\n",
    "            dataset_axis, pt_axis, storage=\"weight\", label=\"Counts\"\n",
    "        )\n",
    "        h_ptZ1mu2 = hda.hist.Hist(\n",
    "            dataset_axis, pt_axis, storage=\"weight\", label=\"Counts\"\n",
    "        )\n",
    "\n",
    "        cutflow = dict()\n",
    "\n",
    "        dataset = events.metadata[\"dataset\"]\n",
    "        muons = ak.zip(\n",
    "            {\n",
    "                \"pt\": events.Muon_pt,\n",
    "                \"eta\": events.Muon_eta,\n",
    "                \"phi\": events.Muon_phi,\n",
    "                \"mass\": events.Muon_mass,\n",
    "                \"charge\": events.Muon_charge,\n",
    "                \"isolation\": events.Muon_pfRelIso03_all,\n",
    "            },\n",
    "            with_name=\"PtEtaPhiMCandidate\",\n",
    "            behavior=candidate.behavior,\n",
    "        )\n",
    "\n",
    "        # make sure they are sorted by transverse momentum\n",
    "        muons = muons[ak.argsort(muons.pt, axis=1)]\n",
    "\n",
    "        cutflow[\"all events\"] = ak.num(muons, axis=0)\n",
    "\n",
    "        # impose some quality and minimum pt cuts on the muons\n",
    "        muons = muons[(muons.pt > 5) & (muons.isolation < 0.2)]\n",
    "        cutflow[\"at least 4 good muons\"] = ak.sum(ak.num(muons) >= 4)\n",
    "        h_nMuons.fill(dataset=dataset, nMuons=ak.num(muons))\n",
    "\n",
    "        # reduce first axis: skip events without enough muons\n",
    "        muons = muons[ak.num(muons) >= 4]\n",
    "\n",
    "        # find all candidates with helper function\n",
    "        fourmuon = dak.map_partitions(find_4lep, muons)\n",
    "        fourmuon = [muons[fourmuon[idx]] for idx in \"0123\"]\n",
    "\n",
    "        fourmuon = ak.zip(\n",
    "            {\n",
    "                \"z1\": ak.zip(\n",
    "                    {\n",
    "                        \"lep1\": fourmuon[0],\n",
    "                        \"lep2\": fourmuon[1],\n",
    "                        \"p4\": fourmuon[0] + fourmuon[1],\n",
    "                    }\n",
    "                ),\n",
    "                \"z2\": ak.zip(\n",
    "                    {\n",
    "                        \"lep1\": fourmuon[2],\n",
    "                        \"lep2\": fourmuon[3],\n",
    "                        \"p4\": fourmuon[2] + fourmuon[3],\n",
    "                    }\n",
    "                ),\n",
    "            }\n",
    "        )\n",
    "\n",
    "        cutflow[\"at least one candidate\"] = ak.sum(ak.num(fourmuon) > 0)\n",
    "\n",
    "        # require minimum dimuon mass\n",
    "        fourmuon = fourmuon[(fourmuon.z1.p4.mass > 60.0) & (fourmuon.z2.p4.mass > 20.0)]\n",
    "        cutflow[\"minimum dimuon mass\"] = ak.sum(ak.num(fourmuon) > 0)\n",
    "\n",
    "        # choose permutation with z1 mass closest to nominal Z boson mass\n",
    "        bestz1 = ak.singletons(ak.argmin(abs(fourmuon.z1.p4.mass - 91.1876), axis=1))\n",
    "        fourmuon = ak.flatten(fourmuon[bestz1])\n",
    "\n",
    "        h_m4mu.fill(\n",
    "            dataset=dataset,\n",
    "            mass=(fourmuon.z1.p4 + fourmuon.z2.p4).mass,\n",
    "        )\n",
    "        h_mZ1.fill(\n",
    "            dataset=dataset,\n",
    "            mass=fourmuon.z1.p4.mass,\n",
    "        )\n",
    "        h_mZ2.fill(\n",
    "            dataset=dataset,\n",
    "            mass=fourmuon.z2.p4.mass,\n",
    "        )\n",
    "        h_ptZ1mu1.fill(\n",
    "            dataset=dataset,\n",
    "            pt=fourmuon.z1.lep1.pt,\n",
    "        )\n",
    "        h_ptZ1mu2.fill(\n",
    "            dataset=dataset,\n",
    "            pt=fourmuon.z1.lep2.pt,\n",
    "        )\n",
    "        return {\n",
    "            \"nMuons\": h_nMuons,\n",
    "            \"mass\": h_m4mu,\n",
    "            \"mass_z1\": h_mZ1,\n",
    "            \"mass_z2\": h_mZ2,\n",
    "            \"pt_z1_mu1\": h_ptZ1mu1,\n",
    "            \"pt_z1_mu2\": h_ptZ1mu2,\n",
    "            \"cutflow\": {dataset: cutflow},\n",
    "        }\n"
   ]
  },
  {
   "cell_type": "markdown",
   "id": "fc1c04a3-7800-4ead-9ccd-2a88578dc5f4",
   "metadata": {},
   "source": [
    "## Example"
   ]
  },
  {
   "cell_type": "code",
   "execution_count": 28,
   "id": "0ed6b5f7-7f21-4b0e-8306-e36e840a5179",
   "metadata": {},
   "outputs": [],
   "source": [
    "# Sort muons by transverse momentum\n",
    "muons = muons[ak.argsort(muons.pt, axis=1)]"
   ]
  },
  {
   "cell_type": "code",
   "execution_count": 29,
   "id": "6cae04d4-d669-437e-a290-1750b3092577",
   "metadata": {},
   "outputs": [],
   "source": [
    "cutflow = {}\n",
    "cutflow[\"all events\"] = ak.num(muons, axis=0)"
   ]
  },
  {
   "cell_type": "code",
   "execution_count": 30,
   "id": "de07bdca-7808-4606-aba1-8232efa8b31f",
   "metadata": {},
   "outputs": [
    {
     "data": {
      "text/html": [
       "<pre>[{pt: 3, eta: 3, phi: 3, mass: 3, charge: 3, isolation: 3},\n",
       " {pt: 0, eta: 0, phi: 0, mass: 0, charge: 0, isolation: 0},\n",
       " {pt: 0, eta: 0, phi: 0, mass: 0, charge: 0, isolation: 0},\n",
       " {pt: 7, eta: 7, phi: 7, mass: 7, charge: 7, isolation: 7},\n",
       " {pt: 0, eta: 0, phi: 0, mass: 0, charge: 0, isolation: 0},\n",
       " {pt: 2, eta: 2, phi: 2, mass: 2, charge: 2, isolation: 2},\n",
       " {pt: 1, eta: 1, phi: 1, mass: 1, charge: 1, isolation: 1},\n",
       " {pt: 0, eta: 0, phi: 0, mass: 0, charge: 0, isolation: 0},\n",
       " {pt: 0, eta: 0, phi: 0, mass: 0, charge: 0, isolation: 0},\n",
       " {pt: 0, eta: 0, phi: 0, mass: 0, charge: 0, isolation: 0}]\n",
       "-----------------------------------------------------------\n",
       "type: 10 * {\n",
       "    pt: int64,\n",
       "    eta: int64,\n",
       "    phi: int64,\n",
       "    mass: int64,\n",
       "    charge: int64,\n",
       "    isolation: int64\n",
       "}</pre>"
      ],
      "text/plain": [
       "<Array [{pt: 3, eta: 3, phi: 3, ...}, ...] type='10 * {pt: int64, eta: int6...'>"
      ]
     },
     "execution_count": 30,
     "metadata": {},
     "output_type": "execute_result"
    }
   ],
   "source": [
    "ak.num(muons[:10])"
   ]
  },
  {
   "cell_type": "code",
   "execution_count": 31,
   "id": "c6c1e073-9dfb-4738-91c7-178170f95a42",
   "metadata": {},
   "outputs": [],
   "source": [
    "# Quality and minimum pt cuts\n",
    "muons = muons[(muons.pt > 5) & (muons.isolation < 0.2)]\n",
    "cutflow[\"at least 4 good muons\"] = ak.sum(ak.num(muons.pt) >= 4)"
   ]
  },
  {
   "cell_type": "code",
   "execution_count": 32,
   "id": "08288a17-7796-49f1-9711-ab3a46a19b9f",
   "metadata": {},
   "outputs": [],
   "source": [
    "# Skip events without enough muons\n",
    "muons = muons[ak.num(muons.pt) >= 4]"
   ]
  },
  {
   "cell_type": "code",
   "execution_count": 33,
   "id": "b9cc26bc-0aaa-4a57-8e12-9c2c780c9a19",
   "metadata": {},
   "outputs": [
    {
     "data": {
      "text/html": [
       "<pre>[{pt: [5.35, 8.39, ..., 52.9, 54.3], eta: [-1.02, ...], phi: [...], ...},\n",
       " {pt: [9.65, 12.5, 45.7, 55.8], eta: [-1.63, ...], phi: [...], mass: ..., ...},\n",
       " {pt: [9.84, 15.5, 46.1, 46.2], eta: [0.783, ...], phi: [...], mass: ..., ...},\n",
       " {pt: [11.3, 18.6, 31, 34], eta: [0.677, ..., 0.549], phi: [...], ...},\n",
       " {pt: [6.39, 14.7, 14.8, 52.7], eta: [-1.81, ...], phi: [...], mass: ..., ...},\n",
       " {pt: [9.65, 14.4, 25.4, 37.2], eta: [-1.37, ...], phi: [...], mass: ..., ...},\n",
       " {pt: [5.61, 15, 44.6, 51.6], eta: [-0.413, ...], phi: [...], mass: [...], ...},\n",
       " {pt: [5.23, 15.6, 29.8, 41.6], eta: [0.215, ...], phi: [...], mass: ..., ...},\n",
       " {pt: [7.22, 15.6, 32.7, 45.7], eta: [-1.37, ...], phi: [...], mass: ..., ...},\n",
       " {pt: [20.6, 24.5, ..., 40.8, 53.8], eta: [-0.427, ...], phi: [...], ...},\n",
       " ...,\n",
       " {pt: [13.4, 20.9, 25.4, 32.8], eta: [0.396, ..., 1.35], phi: [...], ...},\n",
       " {pt: [13.4, 13.5, 16.9, 36], eta: [-0.101, ...], phi: [...], mass: [...], ...},\n",
       " {pt: [12.1, 18.5, 24.5, 32.9], eta: [1.41, ..., -1.47], phi: [...], ...},\n",
       " {pt: [11.4, 29, 31.3, 65.5], eta: [0.871, ..., 0.609], phi: [...], ...},\n",
       " {pt: [10.1, 13.6, 16.9, 52.2], eta: [-0.709, ...], phi: [...], mass: ..., ...},\n",
       " {pt: [11.4, 27.6, 37.2, 1.21e+03], eta: [-0.986, ...], phi: [...], ...},\n",
       " {pt: [7.43, 20, 25.1, 30.5], eta: [-0.343, ..., 0.53], phi: [...], ...},\n",
       " {pt: [12.5, 14.7, 17, 31.5], eta: [-0.0665, ...], phi: [...], mass: ..., ...},\n",
       " {pt: [12, 21.6, 39.7, 43.9], eta: [0.918, ..., 1.29], phi: [...], ...}]\n",
       "--------------------------------------------------------------------------------\n",
       "type: 14954 * {\n",
       "    pt: var * float32,\n",
       "    eta: var * float32,\n",
       "    phi: var * float32,\n",
       "    mass: var * float32,\n",
       "    charge: var * int32,\n",
       "    isolation: var * float32\n",
       "}</pre>"
      ],
      "text/plain": [
       "<Array [{pt: [5.35, ...], eta: ..., ...}, ...] type='14954 * {pt: var * flo...'>"
      ]
     },
     "execution_count": 33,
     "metadata": {},
     "output_type": "execute_result"
    }
   ],
   "source": [
    "muons"
   ]
  },
  {
   "cell_type": "code",
   "execution_count": 34,
   "id": "102bb438-87f6-45a3-8ed2-d6fa71ce22f7",
   "metadata": {},
   "outputs": [
    {
     "data": {
      "text/plain": [
       "find_4lep (generic function with 1 method)"
      ]
     },
     "execution_count": 34,
     "metadata": {},
     "output_type": "execute_result"
    }
   ],
   "source": [
    "jl.seval(\"\"\"\n",
    "using AwkwardArray\n",
    "\n",
    "function find_4lep(events_leptons)\n",
    "\n",
    "    array = AwkwardArray.ListArray{\n",
    "        AwkwardArray.Index64,\n",
    "        AwkwardArray.TupleArray{Tuple{\n",
    "            AwkwardArray.PrimitiveArray{Int64},\n",
    "            AwkwardArray.PrimitiveArray{Int64},\n",
    "            AwkwardArray.PrimitiveArray{Int64},\n",
    "            AwkwardArray.PrimitiveArray{Int64}}\n",
    "        }\n",
    "    }()\n",
    "    for leptons in events_leptons\n",
    "        nlep = length(leptons[:charge])\n",
    "        for i0 in 1:nlep\n",
    "            for i1 in (i0 + 1):nlep\n",
    "                if leptons[:charge][i0] + leptons[:charge][i1] != 0\n",
    "                    continue\n",
    "                end\n",
    "                for i2 in 1:nlep\n",
    "                    for i3 in (i2 + 1):nlep\n",
    "                        if length(Set([i0, i1, i2, i3])) < 4\n",
    "                            continue\n",
    "                        end\n",
    "                        if leptons[:charge][i2] + leptons[:charge][i3] != 0\n",
    "                            continue\n",
    "                        end\n",
    "                        \n",
    "                        push!(array.content, (i0 - 1))  # Julia is 1-based, subtract 1 for 0-based indexing\n",
    "                        push!(array.content, (i1 - 1))\n",
    "                        push!(array.content, (i2 - 1))\n",
    "                        push!(array.content, (i3 - 1))\n",
    "                        \n",
    "                        AwkwardArray.end_tuple!(array.content)\n",
    "                    end\n",
    "                end\n",
    "            end\n",
    "        end\n",
    "        AwkwardArray.end_list!(array)\n",
    "    end\n",
    "\n",
    "    return array\n",
    "\n",
    "end\n",
    "\"\"\")"
   ]
  },
  {
   "cell_type": "code",
   "execution_count": null,
   "id": "22a842f8-1c51-4fd7-95f5-dd66ffcf74d8",
   "metadata": {},
   "outputs": [],
   "source": [
    "# Find four-muon candidates\n",
    "jl.find_4lep(muons[1:10])"
   ]
  },
  {
   "cell_type": "code",
   "execution_count": null,
   "id": "10e8be5b-ecd5-4f69-8c18-54634ff96138",
   "metadata": {},
   "outputs": [],
   "source": []
  }
 ],
 "metadata": {
  "kernelspec": {
   "display_name": "Python 3 (ipykernel)",
   "language": "python",
   "name": "python3"
  },
  "language_info": {
   "codemirror_mode": {
    "name": "ipython",
    "version": 3
   },
   "file_extension": ".py",
   "mimetype": "text/x-python",
   "name": "python",
   "nbconvert_exporter": "python",
   "pygments_lexer": "ipython3",
   "version": "3.11.9"
  }
 },
 "nbformat": 4,
 "nbformat_minor": 5
}
